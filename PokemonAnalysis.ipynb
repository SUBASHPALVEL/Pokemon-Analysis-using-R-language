{
 "cells": [
  {
   "cell_type": "markdown",
   "id": "f0ab8db1",
   "metadata": {},
   "source": [
    "Loading dataset"
   ]
  },
  {
   "cell_type": "code",
   "execution_count": 1,
   "id": "b097c853",
   "metadata": {},
   "outputs": [],
   "source": [
    "pokemon <- read.csv(\"pokemon.csv\")"
   ]
  },
  {
   "cell_type": "markdown",
   "id": "2715e040",
   "metadata": {},
   "source": [
    "Viewing the data"
   ]
  },
  {
   "cell_type": "code",
   "execution_count": 2,
   "id": "1ebede0f",
   "metadata": {},
   "outputs": [
    {
     "data": {
      "text/html": [
       "<table class=\"dataframe\">\n",
       "<caption>A data.frame: 801 × 41</caption>\n",
       "<thead>\n",
       "\t<tr><th scope=col>abilities</th><th scope=col>against_bug</th><th scope=col>against_dark</th><th scope=col>against_dragon</th><th scope=col>against_electric</th><th scope=col>against_fairy</th><th scope=col>against_fight</th><th scope=col>against_fire</th><th scope=col>against_flying</th><th scope=col>against_ghost</th><th scope=col>...</th><th scope=col>percentage_male</th><th scope=col>pokedex_number</th><th scope=col>sp_attack</th><th scope=col>sp_defense</th><th scope=col>speed</th><th scope=col>type1</th><th scope=col>type2</th><th scope=col>weight_kg</th><th scope=col>generation</th><th scope=col>is_legendary</th></tr>\n",
       "\t<tr><th scope=col>&lt;chr&gt;</th><th scope=col>&lt;dbl&gt;</th><th scope=col>&lt;dbl&gt;</th><th scope=col>&lt;dbl&gt;</th><th scope=col>&lt;dbl&gt;</th><th scope=col>&lt;dbl&gt;</th><th scope=col>&lt;dbl&gt;</th><th scope=col>&lt;dbl&gt;</th><th scope=col>&lt;dbl&gt;</th><th scope=col>&lt;dbl&gt;</th><th scope=col>...</th><th scope=col>&lt;dbl&gt;</th><th scope=col>&lt;int&gt;</th><th scope=col>&lt;int&gt;</th><th scope=col>&lt;int&gt;</th><th scope=col>&lt;int&gt;</th><th scope=col>&lt;chr&gt;</th><th scope=col>&lt;chr&gt;</th><th scope=col>&lt;dbl&gt;</th><th scope=col>&lt;int&gt;</th><th scope=col>&lt;int&gt;</th></tr>\n",
       "</thead>\n",
       "<tbody>\n",
       "\t<tr><td>['Overgrow', 'Chlorophyll']                                      </td><td>1.00</td><td>1</td><td>1</td><td>0.5</td><td>0.5</td><td>0.50</td><td>2.0</td><td>2.0</td><td>1</td><td>...</td><td>88.1</td><td> 1</td><td> 65</td><td> 65</td><td> 45</td><td>grass   </td><td>poison  </td><td>  6.9</td><td>1</td><td>0</td></tr>\n",
       "\t<tr><td>['Overgrow', 'Chlorophyll']                                      </td><td>1.00</td><td>1</td><td>1</td><td>0.5</td><td>0.5</td><td>0.50</td><td>2.0</td><td>2.0</td><td>1</td><td>...</td><td>88.1</td><td> 2</td><td> 80</td><td> 80</td><td> 60</td><td>grass   </td><td>poison  </td><td> 13.0</td><td>1</td><td>0</td></tr>\n",
       "\t<tr><td>['Overgrow', 'Chlorophyll']                                      </td><td>1.00</td><td>1</td><td>1</td><td>0.5</td><td>0.5</td><td>0.50</td><td>2.0</td><td>2.0</td><td>1</td><td>...</td><td>88.1</td><td> 3</td><td>122</td><td>120</td><td> 80</td><td>grass   </td><td>poison  </td><td>100.0</td><td>1</td><td>0</td></tr>\n",
       "\t<tr><td>['Blaze', 'Solar Power']                                         </td><td>0.50</td><td>1</td><td>1</td><td>1.0</td><td>0.5</td><td>1.00</td><td>0.5</td><td>1.0</td><td>1</td><td>...</td><td>88.1</td><td> 4</td><td> 60</td><td> 50</td><td> 65</td><td>fire    </td><td>        </td><td>  8.5</td><td>1</td><td>0</td></tr>\n",
       "\t<tr><td>['Blaze', 'Solar Power']                                         </td><td>0.50</td><td>1</td><td>1</td><td>1.0</td><td>0.5</td><td>1.00</td><td>0.5</td><td>1.0</td><td>1</td><td>...</td><td>88.1</td><td> 5</td><td> 80</td><td> 65</td><td> 80</td><td>fire    </td><td>        </td><td> 19.0</td><td>1</td><td>0</td></tr>\n",
       "\t<tr><td>['Blaze', 'Solar Power']                                         </td><td>0.25</td><td>1</td><td>1</td><td>2.0</td><td>0.5</td><td>0.50</td><td>0.5</td><td>1.0</td><td>1</td><td>...</td><td>88.1</td><td> 6</td><td>159</td><td>115</td><td>100</td><td>fire    </td><td>flying  </td><td> 90.5</td><td>1</td><td>0</td></tr>\n",
       "\t<tr><td>['Torrent', 'Rain Dish']                                         </td><td>1.00</td><td>1</td><td>1</td><td>2.0</td><td>1.0</td><td>1.00</td><td>0.5</td><td>1.0</td><td>1</td><td>...</td><td>88.1</td><td> 7</td><td> 50</td><td> 64</td><td> 43</td><td>water   </td><td>        </td><td>  9.0</td><td>1</td><td>0</td></tr>\n",
       "\t<tr><td>['Torrent', 'Rain Dish']                                         </td><td>1.00</td><td>1</td><td>1</td><td>2.0</td><td>1.0</td><td>1.00</td><td>0.5</td><td>1.0</td><td>1</td><td>...</td><td>88.1</td><td> 8</td><td> 65</td><td> 80</td><td> 58</td><td>water   </td><td>        </td><td> 22.5</td><td>1</td><td>0</td></tr>\n",
       "\t<tr><td>['Torrent', 'Rain Dish']                                         </td><td>1.00</td><td>1</td><td>1</td><td>2.0</td><td>1.0</td><td>1.00</td><td>0.5</td><td>1.0</td><td>1</td><td>...</td><td>88.1</td><td> 9</td><td>135</td><td>115</td><td> 78</td><td>water   </td><td>        </td><td> 85.5</td><td>1</td><td>0</td></tr>\n",
       "\t<tr><td>['Shield Dust', 'Run Away']                                      </td><td>1.00</td><td>1</td><td>1</td><td>1.0</td><td>1.0</td><td>0.50</td><td>2.0</td><td>2.0</td><td>1</td><td>...</td><td>50.0</td><td>10</td><td> 20</td><td> 20</td><td> 45</td><td>bug     </td><td>        </td><td>  2.9</td><td>1</td><td>0</td></tr>\n",
       "\t<tr><td>['Shed Skin']                                                    </td><td>1.00</td><td>1</td><td>1</td><td>1.0</td><td>1.0</td><td>0.50</td><td>2.0</td><td>2.0</td><td>1</td><td>...</td><td>50.0</td><td>11</td><td> 25</td><td> 25</td><td> 30</td><td>bug     </td><td>        </td><td>  9.9</td><td>1</td><td>0</td></tr>\n",
       "\t<tr><td>['Compoundeyes', 'Tinted Lens']                                  </td><td>0.50</td><td>1</td><td>1</td><td>2.0</td><td>1.0</td><td>0.25</td><td>2.0</td><td>2.0</td><td>1</td><td>...</td><td>50.0</td><td>12</td><td> 90</td><td> 80</td><td> 70</td><td>bug     </td><td>flying  </td><td> 32.0</td><td>1</td><td>0</td></tr>\n",
       "\t<tr><td>['Shield Dust', 'Run Away']                                      </td><td>0.50</td><td>1</td><td>1</td><td>1.0</td><td>0.5</td><td>0.25</td><td>2.0</td><td>2.0</td><td>1</td><td>...</td><td>50.0</td><td>13</td><td> 20</td><td> 20</td><td> 50</td><td>bug     </td><td>poison  </td><td>  3.2</td><td>1</td><td>0</td></tr>\n",
       "\t<tr><td>['Shed Skin']                                                    </td><td>0.50</td><td>1</td><td>1</td><td>1.0</td><td>0.5</td><td>0.25</td><td>2.0</td><td>2.0</td><td>1</td><td>...</td><td>50.0</td><td>14</td><td> 25</td><td> 25</td><td> 35</td><td>bug     </td><td>poison  </td><td> 10.0</td><td>1</td><td>0</td></tr>\n",
       "\t<tr><td>['Swarm', 'Sniper']                                              </td><td>0.50</td><td>1</td><td>1</td><td>1.0</td><td>0.5</td><td>0.25</td><td>2.0</td><td>2.0</td><td>1</td><td>...</td><td>50.0</td><td>15</td><td> 15</td><td> 80</td><td>145</td><td>bug     </td><td>poison  </td><td> 29.5</td><td>1</td><td>0</td></tr>\n",
       "\t<tr><td>['Keen Eye', 'Tangled Feet', 'Big Pecks']                        </td><td>0.50</td><td>1</td><td>1</td><td>2.0</td><td>1.0</td><td>1.00</td><td>1.0</td><td>1.0</td><td>0</td><td>...</td><td>50.0</td><td>16</td><td> 35</td><td> 35</td><td> 56</td><td>normal  </td><td>flying  </td><td>  1.8</td><td>1</td><td>0</td></tr>\n",
       "\t<tr><td>['Keen Eye', 'Tangled Feet', 'Big Pecks']                        </td><td>0.50</td><td>1</td><td>1</td><td>2.0</td><td>1.0</td><td>1.00</td><td>1.0</td><td>1.0</td><td>0</td><td>...</td><td>50.0</td><td>17</td><td> 50</td><td> 50</td><td> 71</td><td>normal  </td><td>flying  </td><td> 30.0</td><td>1</td><td>0</td></tr>\n",
       "\t<tr><td>['Keen Eye', 'Tangled Feet', 'Big Pecks']                        </td><td>0.50</td><td>1</td><td>1</td><td>2.0</td><td>1.0</td><td>1.00</td><td>1.0</td><td>1.0</td><td>0</td><td>...</td><td>50.0</td><td>18</td><td>135</td><td> 80</td><td>121</td><td>normal  </td><td>flying  </td><td> 39.5</td><td>1</td><td>0</td></tr>\n",
       "\t<tr><td>['Run Away', 'Guts', 'Hustle', 'Gluttony', 'Hustle', 'Thick Fat']</td><td>1.00</td><td>1</td><td>1</td><td>1.0</td><td>1.0</td><td>2.00</td><td>1.0</td><td>1.0</td><td>0</td><td>...</td><td>50.0</td><td>19</td><td> 25</td><td> 35</td><td> 72</td><td>normal  </td><td>dark    </td><td>   NA</td><td>1</td><td>0</td></tr>\n",
       "\t<tr><td>['Run Away', 'Guts', 'Hustle', 'Gluttony', 'Hustle', 'Thick Fat']</td><td>1.00</td><td>1</td><td>1</td><td>1.0</td><td>1.0</td><td>2.00</td><td>1.0</td><td>1.0</td><td>0</td><td>...</td><td>50.0</td><td>20</td><td> 40</td><td> 80</td><td> 77</td><td>normal  </td><td>dark    </td><td>   NA</td><td>1</td><td>0</td></tr>\n",
       "\t<tr><td>['Keen Eye', 'Sniper']                                           </td><td>0.50</td><td>1</td><td>1</td><td>2.0</td><td>1.0</td><td>1.00</td><td>1.0</td><td>1.0</td><td>0</td><td>...</td><td>50.0</td><td>21</td><td> 31</td><td> 31</td><td> 70</td><td>normal  </td><td>flying  </td><td>  2.0</td><td>1</td><td>0</td></tr>\n",
       "\t<tr><td>['Keen Eye', 'Sniper']                                           </td><td>0.50</td><td>1</td><td>1</td><td>2.0</td><td>1.0</td><td>1.00</td><td>1.0</td><td>1.0</td><td>0</td><td>...</td><td>50.0</td><td>22</td><td> 61</td><td> 61</td><td>100</td><td>normal  </td><td>flying  </td><td> 38.0</td><td>1</td><td>0</td></tr>\n",
       "\t<tr><td>['Intimidate', 'Shed Skin', 'Unnerve']                           </td><td>0.50</td><td>1</td><td>1</td><td>1.0</td><td>0.5</td><td>0.50</td><td>1.0</td><td>1.0</td><td>1</td><td>...</td><td>50.0</td><td>23</td><td> 40</td><td> 54</td><td> 55</td><td>poison  </td><td>        </td><td>  6.9</td><td>1</td><td>0</td></tr>\n",
       "\t<tr><td>['Intimidate', 'Shed Skin', 'Unnerve']                           </td><td>0.50</td><td>1</td><td>1</td><td>1.0</td><td>0.5</td><td>0.50</td><td>1.0</td><td>1.0</td><td>1</td><td>...</td><td>50.0</td><td>24</td><td> 65</td><td> 79</td><td> 80</td><td>poison  </td><td>        </td><td> 65.0</td><td>1</td><td>0</td></tr>\n",
       "\t<tr><td>['Static', 'Lightningrod']                                       </td><td>1.00</td><td>1</td><td>1</td><td>0.5</td><td>1.0</td><td>1.00</td><td>1.0</td><td>0.5</td><td>1</td><td>...</td><td>50.0</td><td>25</td><td> 50</td><td> 50</td><td> 90</td><td>electric</td><td>        </td><td>  6.0</td><td>1</td><td>0</td></tr>\n",
       "\t<tr><td>['Static', 'Lightningrod', 'Surge Surfer']                       </td><td>1.00</td><td>1</td><td>1</td><td>0.5</td><td>1.0</td><td>1.00</td><td>1.0</td><td>0.5</td><td>1</td><td>...</td><td>50.0</td><td>26</td><td> 95</td><td> 85</td><td>110</td><td>electric</td><td>electric</td><td>   NA</td><td>1</td><td>0</td></tr>\n",
       "\t<tr><td>['Sand Veil', 'Sand Rush', 'Snow Cloak', 'Slush Rush']           </td><td>1.00</td><td>1</td><td>1</td><td>0.0</td><td>1.0</td><td>1.00</td><td>1.0</td><td>1.0</td><td>1</td><td>...</td><td>50.0</td><td>27</td><td> 10</td><td> 35</td><td> 40</td><td>ground  </td><td>ice     </td><td>   NA</td><td>1</td><td>0</td></tr>\n",
       "\t<tr><td>['Sand Veil', 'Sand Rush', 'Snow Cloak', 'Slush Rush']           </td><td>1.00</td><td>1</td><td>1</td><td>0.0</td><td>1.0</td><td>1.00</td><td>1.0</td><td>1.0</td><td>1</td><td>...</td><td>50.0</td><td>28</td><td> 25</td><td> 65</td><td> 65</td><td>ground  </td><td>ice     </td><td>   NA</td><td>1</td><td>0</td></tr>\n",
       "\t<tr><td>['Poison Point', 'Rivalry', 'Hustle']                            </td><td>0.50</td><td>1</td><td>1</td><td>1.0</td><td>0.5</td><td>0.50</td><td>1.0</td><td>1.0</td><td>1</td><td>...</td><td> 0.0</td><td>29</td><td> 40</td><td> 40</td><td> 41</td><td>poison  </td><td>        </td><td>  7.0</td><td>1</td><td>0</td></tr>\n",
       "\t<tr><td>['Poison Point', 'Rivalry', 'Hustle']                            </td><td>0.50</td><td>1</td><td>1</td><td>1.0</td><td>0.5</td><td>0.50</td><td>1.0</td><td>1.0</td><td>1</td><td>...</td><td> 0.0</td><td>30</td><td> 55</td><td> 55</td><td> 56</td><td>poison  </td><td>        </td><td> 20.0</td><td>1</td><td>0</td></tr>\n",
       "\t<tr><td>...</td><td>...</td><td>...</td><td>...</td><td>...</td><td>...</td><td>...</td><td>...</td><td>...</td><td>...</td><td></td><td>...</td><td>...</td><td>...</td><td>...</td><td>...</td><td>...</td><td>...</td><td>...</td><td>...</td><td>...</td></tr>\n",
       "\t<tr><td>['Battle Armor']                          </td><td>1.00</td><td>1.0</td><td>1.0</td><td>1.0</td><td>1.0</td><td>2.00</td><td>1.00</td><td>1.00</td><td>0.0</td><td>...</td><td>NA</td><td>772</td><td> 95</td><td> 95</td><td> 59</td><td>normal  </td><td>        </td><td>120.5</td><td>7</td><td>0</td></tr>\n",
       "\t<tr><td>['RKS System']                            </td><td>1.00</td><td>1.0</td><td>1.0</td><td>1.0</td><td>1.0</td><td>2.00</td><td>1.00</td><td>1.00</td><td>0.0</td><td>...</td><td>NA</td><td>773</td><td> 95</td><td> 95</td><td> 95</td><td>normal  </td><td>        </td><td>100.5</td><td>7</td><td>0</td></tr>\n",
       "\t<tr><td>['Shields Down']                          </td><td>0.50</td><td>1.0</td><td>1.0</td><td>2.0</td><td>1.0</td><td>1.00</td><td>0.50</td><td>0.50</td><td>1.0</td><td>...</td><td>NA</td><td>774</td><td>100</td><td> 60</td><td>120</td><td>rock    </td><td>flying  </td><td> 40.0</td><td>7</td><td>0</td></tr>\n",
       "\t<tr><td>['Comatose']                              </td><td>1.00</td><td>1.0</td><td>1.0</td><td>1.0</td><td>1.0</td><td>2.00</td><td>1.00</td><td>1.00</td><td>0.0</td><td>...</td><td>50</td><td>775</td><td> 75</td><td> 95</td><td> 65</td><td>normal  </td><td>        </td><td> 19.9</td><td>7</td><td>0</td></tr>\n",
       "\t<tr><td>['Shell Armor']                           </td><td>0.50</td><td>1.0</td><td>2.0</td><td>0.5</td><td>1.0</td><td>1.00</td><td>0.25</td><td>1.00</td><td>1.0</td><td>...</td><td>50</td><td>776</td><td> 91</td><td> 85</td><td> 36</td><td>fire    </td><td>dragon  </td><td>212.0</td><td>7</td><td>0</td></tr>\n",
       "\t<tr><td>['Iron Barbs', 'Lightningrod', 'Sturdy']  </td><td>0.50</td><td>1.0</td><td>0.5</td><td>0.5</td><td>0.5</td><td>2.00</td><td>2.00</td><td>0.25</td><td>1.0</td><td>...</td><td>50</td><td>777</td><td> 40</td><td> 73</td><td> 96</td><td>electric</td><td>steel   </td><td>  3.3</td><td>7</td><td>0</td></tr>\n",
       "\t<tr><td>['Disguise']                              </td><td>0.25</td><td>1.0</td><td>0.0</td><td>1.0</td><td>1.0</td><td>0.00</td><td>1.00</td><td>1.00</td><td>2.0</td><td>...</td><td>50</td><td>778</td><td> 50</td><td>105</td><td> 96</td><td>ghost   </td><td>fairy   </td><td>  0.7</td><td>7</td><td>0</td></tr>\n",
       "\t<tr><td>['Dazzling', 'Strong Jaw', 'Wonder Skin ']</td><td>2.00</td><td>2.0</td><td>1.0</td><td>2.0</td><td>1.0</td><td>0.50</td><td>0.50</td><td>1.00</td><td>2.0</td><td>...</td><td>50</td><td>779</td><td> 70</td><td> 70</td><td> 92</td><td>water   </td><td>psychic </td><td> 19.0</td><td>7</td><td>0</td></tr>\n",
       "\t<tr><td>['Berserk', 'Sap Sipper', 'Cloud Nine']   </td><td>1.00</td><td>1.0</td><td>2.0</td><td>0.5</td><td>2.0</td><td>2.00</td><td>0.50</td><td>1.00</td><td>0.0</td><td>...</td><td>50</td><td>780</td><td>135</td><td> 91</td><td> 36</td><td>normal  </td><td>dragon  </td><td>185.0</td><td>7</td><td>0</td></tr>\n",
       "\t<tr><td>['Steelworker']                           </td><td>1.00</td><td>2.0</td><td>1.0</td><td>0.5</td><td>1.0</td><td>0.00</td><td>2.00</td><td>2.00</td><td>2.0</td><td>...</td><td>NA</td><td>781</td><td> 86</td><td> 90</td><td> 40</td><td>ghost   </td><td>grass   </td><td>210.0</td><td>7</td><td>0</td></tr>\n",
       "\t<tr><td>['Bulletproof', 'Soundproof', 'Overcoat'] </td><td>1.00</td><td>1.0</td><td>2.0</td><td>0.5</td><td>2.0</td><td>1.00</td><td>0.50</td><td>1.00</td><td>1.0</td><td>...</td><td>50</td><td>782</td><td> 45</td><td> 45</td><td> 45</td><td>dragon  </td><td>        </td><td> 29.7</td><td>7</td><td>0</td></tr>\n",
       "\t<tr><td>['Bulletproof', 'Soundproof', 'Overcoat'] </td><td>0.50</td><td>0.5</td><td>2.0</td><td>0.5</td><td>4.0</td><td>1.00</td><td>0.50</td><td>2.00</td><td>1.0</td><td>...</td><td>50</td><td>783</td><td> 65</td><td> 70</td><td> 65</td><td>dragon  </td><td>fighting</td><td> 47.0</td><td>7</td><td>0</td></tr>\n",
       "\t<tr><td>['Bulletproof', 'Soundproof', 'Overcoat'] </td><td>0.50</td><td>0.5</td><td>2.0</td><td>0.5</td><td>4.0</td><td>1.00</td><td>0.50</td><td>2.00</td><td>1.0</td><td>...</td><td>50</td><td>784</td><td>100</td><td>105</td><td> 85</td><td>dragon  </td><td>fighting</td><td> 78.2</td><td>7</td><td>0</td></tr>\n",
       "\t<tr><td>['Electric Surge', 'Telepathy']           </td><td>0.50</td><td>0.5</td><td>0.0</td><td>0.5</td><td>1.0</td><td>0.50</td><td>1.00</td><td>0.50</td><td>1.0</td><td>...</td><td>NA</td><td>785</td><td> 95</td><td> 75</td><td>130</td><td>electric</td><td>fairy   </td><td> 20.5</td><td>7</td><td>1</td></tr>\n",
       "\t<tr><td>['Psychic Surge', 'Telepathy']            </td><td>1.00</td><td>1.0</td><td>0.0</td><td>1.0</td><td>1.0</td><td>0.25</td><td>1.00</td><td>1.00</td><td>2.0</td><td>...</td><td>NA</td><td>786</td><td>130</td><td>115</td><td> 95</td><td>psychic </td><td>fairy   </td><td> 18.6</td><td>7</td><td>1</td></tr>\n",
       "\t<tr><td>['Grassy Surge', 'Telepathy']             </td><td>1.00</td><td>0.5</td><td>0.0</td><td>0.5</td><td>1.0</td><td>0.50</td><td>2.00</td><td>2.00</td><td>1.0</td><td>...</td><td>NA</td><td>787</td><td> 85</td><td> 95</td><td> 75</td><td>grass   </td><td>fairy   </td><td> 45.5</td><td>7</td><td>1</td></tr>\n",
       "\t<tr><td>['Misty Surge', 'Telepathy']              </td><td>0.50</td><td>0.5</td><td>0.0</td><td>2.0</td><td>1.0</td><td>0.50</td><td>0.50</td><td>1.00</td><td>1.0</td><td>...</td><td>NA</td><td>788</td><td> 95</td><td>130</td><td> 85</td><td>water   </td><td>fairy   </td><td> 21.2</td><td>7</td><td>1</td></tr>\n",
       "\t<tr><td>['Unaware']                               </td><td>2.00</td><td>2.0</td><td>1.0</td><td>1.0</td><td>1.0</td><td>0.50</td><td>1.00</td><td>1.00</td><td>2.0</td><td>...</td><td>NA</td><td>789</td><td> 29</td><td> 31</td><td> 37</td><td>psychic </td><td>        </td><td>  0.1</td><td>7</td><td>1</td></tr>\n",
       "\t<tr><td>['Sturdy']                                </td><td>2.00</td><td>2.0</td><td>1.0</td><td>1.0</td><td>1.0</td><td>0.50</td><td>1.00</td><td>1.00</td><td>2.0</td><td>...</td><td>NA</td><td>790</td><td> 29</td><td>131</td><td> 37</td><td>psychic </td><td>        </td><td>999.9</td><td>7</td><td>1</td></tr>\n",
       "\t<tr><td>['Full Metal Body']                       </td><td>1.00</td><td>2.0</td><td>0.5</td><td>1.0</td><td>0.5</td><td>1.00</td><td>2.00</td><td>0.50</td><td>2.0</td><td>...</td><td>NA</td><td>791</td><td>113</td><td> 89</td><td> 97</td><td>psychic </td><td>steel   </td><td>230.0</td><td>7</td><td>1</td></tr>\n",
       "\t<tr><td>['Shadow Shield']                         </td><td>1.00</td><td>4.0</td><td>1.0</td><td>1.0</td><td>1.0</td><td>0.00</td><td>1.00</td><td>1.00</td><td>4.0</td><td>...</td><td>NA</td><td>792</td><td>137</td><td>107</td><td> 97</td><td>psychic </td><td>ghost   </td><td>120.0</td><td>7</td><td>1</td></tr>\n",
       "\t<tr><td>['Beast Boost']                           </td><td>0.50</td><td>1.0</td><td>1.0</td><td>1.0</td><td>0.5</td><td>1.00</td><td>0.50</td><td>0.50</td><td>1.0</td><td>...</td><td>NA</td><td>793</td><td>127</td><td>131</td><td>103</td><td>rock    </td><td>poison  </td><td> 55.5</td><td>7</td><td>1</td></tr>\n",
       "\t<tr><td>['Beast Boost']                           </td><td>0.50</td><td>0.5</td><td>1.0</td><td>1.0</td><td>2.0</td><td>0.50</td><td>2.00</td><td>4.00</td><td>1.0</td><td>...</td><td>NA</td><td>794</td><td> 53</td><td> 53</td><td> 79</td><td>bug     </td><td>fighting</td><td>333.6</td><td>7</td><td>1</td></tr>\n",
       "\t<tr><td>['Beast Boost']                           </td><td>0.50</td><td>0.5</td><td>1.0</td><td>1.0</td><td>2.0</td><td>0.50</td><td>2.00</td><td>4.00</td><td>1.0</td><td>...</td><td>NA</td><td>795</td><td>137</td><td> 37</td><td>151</td><td>bug     </td><td>fighting</td><td> 25.0</td><td>7</td><td>1</td></tr>\n",
       "\t<tr><td>['Beast Boost']                           </td><td>1.00</td><td>1.0</td><td>1.0</td><td>0.5</td><td>1.0</td><td>1.00</td><td>1.00</td><td>0.50</td><td>1.0</td><td>...</td><td>NA</td><td>796</td><td>173</td><td> 71</td><td> 83</td><td>electric</td><td>        </td><td>100.0</td><td>7</td><td>1</td></tr>\n",
       "\t<tr><td>['Beast Boost']                           </td><td>0.25</td><td>1.0</td><td>0.5</td><td>2.0</td><td>0.5</td><td>1.00</td><td>2.00</td><td>0.50</td><td>1.0</td><td>...</td><td>NA</td><td>797</td><td>107</td><td>101</td><td> 61</td><td>steel   </td><td>flying  </td><td>999.9</td><td>7</td><td>1</td></tr>\n",
       "\t<tr><td>['Beast Boost']                           </td><td>1.00</td><td>1.0</td><td>0.5</td><td>0.5</td><td>0.5</td><td>2.00</td><td>4.00</td><td>1.00</td><td>1.0</td><td>...</td><td>NA</td><td>798</td><td> 59</td><td> 31</td><td>109</td><td>grass   </td><td>steel   </td><td>  0.1</td><td>7</td><td>1</td></tr>\n",
       "\t<tr><td>['Beast Boost']                           </td><td>2.00</td><td>0.5</td><td>2.0</td><td>0.5</td><td>4.0</td><td>2.00</td><td>0.50</td><td>1.00</td><td>0.5</td><td>...</td><td>NA</td><td>799</td><td> 97</td><td> 53</td><td> 43</td><td>dark    </td><td>dragon  </td><td>888.0</td><td>7</td><td>1</td></tr>\n",
       "\t<tr><td>['Prism Armor']                           </td><td>2.00</td><td>2.0</td><td>1.0</td><td>1.0</td><td>1.0</td><td>0.50</td><td>1.00</td><td>1.00</td><td>2.0</td><td>...</td><td>NA</td><td>800</td><td>127</td><td> 89</td><td> 79</td><td>psychic </td><td>        </td><td>230.0</td><td>7</td><td>1</td></tr>\n",
       "\t<tr><td>['Soul-Heart']                            </td><td>0.25</td><td>0.5</td><td>0.0</td><td>1.0</td><td>0.5</td><td>1.00</td><td>2.00</td><td>0.50</td><td>1.0</td><td>...</td><td>NA</td><td>801</td><td>130</td><td>115</td><td> 65</td><td>steel   </td><td>fairy   </td><td> 80.5</td><td>7</td><td>1</td></tr>\n",
       "</tbody>\n",
       "</table>\n"
      ],
      "text/latex": [
       "A data.frame: 801 × 41\n",
       "\\begin{tabular}{lllllllllllllllllllll}\n",
       " abilities & against\\_bug & against\\_dark & against\\_dragon & against\\_electric & against\\_fairy & against\\_fight & against\\_fire & against\\_flying & against\\_ghost & ... & percentage\\_male & pokedex\\_number & sp\\_attack & sp\\_defense & speed & type1 & type2 & weight\\_kg & generation & is\\_legendary\\\\\n",
       " <chr> & <dbl> & <dbl> & <dbl> & <dbl> & <dbl> & <dbl> & <dbl> & <dbl> & <dbl> & ... & <dbl> & <int> & <int> & <int> & <int> & <chr> & <chr> & <dbl> & <int> & <int>\\\\\n",
       "\\hline\n",
       "\t {[}'Overgrow', 'Chlorophyll'{]}                                       & 1.00 & 1 & 1 & 0.5 & 0.5 & 0.50 & 2.0 & 2.0 & 1 & ... & 88.1 &  1 &  65 &  65 &  45 & grass    & poison   &   6.9 & 1 & 0\\\\\n",
       "\t {[}'Overgrow', 'Chlorophyll'{]}                                       & 1.00 & 1 & 1 & 0.5 & 0.5 & 0.50 & 2.0 & 2.0 & 1 & ... & 88.1 &  2 &  80 &  80 &  60 & grass    & poison   &  13.0 & 1 & 0\\\\\n",
       "\t {[}'Overgrow', 'Chlorophyll'{]}                                       & 1.00 & 1 & 1 & 0.5 & 0.5 & 0.50 & 2.0 & 2.0 & 1 & ... & 88.1 &  3 & 122 & 120 &  80 & grass    & poison   & 100.0 & 1 & 0\\\\\n",
       "\t {[}'Blaze', 'Solar Power'{]}                                          & 0.50 & 1 & 1 & 1.0 & 0.5 & 1.00 & 0.5 & 1.0 & 1 & ... & 88.1 &  4 &  60 &  50 &  65 & fire     &          &   8.5 & 1 & 0\\\\\n",
       "\t {[}'Blaze', 'Solar Power'{]}                                          & 0.50 & 1 & 1 & 1.0 & 0.5 & 1.00 & 0.5 & 1.0 & 1 & ... & 88.1 &  5 &  80 &  65 &  80 & fire     &          &  19.0 & 1 & 0\\\\\n",
       "\t {[}'Blaze', 'Solar Power'{]}                                          & 0.25 & 1 & 1 & 2.0 & 0.5 & 0.50 & 0.5 & 1.0 & 1 & ... & 88.1 &  6 & 159 & 115 & 100 & fire     & flying   &  90.5 & 1 & 0\\\\\n",
       "\t {[}'Torrent', 'Rain Dish'{]}                                          & 1.00 & 1 & 1 & 2.0 & 1.0 & 1.00 & 0.5 & 1.0 & 1 & ... & 88.1 &  7 &  50 &  64 &  43 & water    &          &   9.0 & 1 & 0\\\\\n",
       "\t {[}'Torrent', 'Rain Dish'{]}                                          & 1.00 & 1 & 1 & 2.0 & 1.0 & 1.00 & 0.5 & 1.0 & 1 & ... & 88.1 &  8 &  65 &  80 &  58 & water    &          &  22.5 & 1 & 0\\\\\n",
       "\t {[}'Torrent', 'Rain Dish'{]}                                          & 1.00 & 1 & 1 & 2.0 & 1.0 & 1.00 & 0.5 & 1.0 & 1 & ... & 88.1 &  9 & 135 & 115 &  78 & water    &          &  85.5 & 1 & 0\\\\\n",
       "\t {[}'Shield Dust', 'Run Away'{]}                                       & 1.00 & 1 & 1 & 1.0 & 1.0 & 0.50 & 2.0 & 2.0 & 1 & ... & 50.0 & 10 &  20 &  20 &  45 & bug      &          &   2.9 & 1 & 0\\\\\n",
       "\t {[}'Shed Skin'{]}                                                     & 1.00 & 1 & 1 & 1.0 & 1.0 & 0.50 & 2.0 & 2.0 & 1 & ... & 50.0 & 11 &  25 &  25 &  30 & bug      &          &   9.9 & 1 & 0\\\\\n",
       "\t {[}'Compoundeyes', 'Tinted Lens'{]}                                   & 0.50 & 1 & 1 & 2.0 & 1.0 & 0.25 & 2.0 & 2.0 & 1 & ... & 50.0 & 12 &  90 &  80 &  70 & bug      & flying   &  32.0 & 1 & 0\\\\\n",
       "\t {[}'Shield Dust', 'Run Away'{]}                                       & 0.50 & 1 & 1 & 1.0 & 0.5 & 0.25 & 2.0 & 2.0 & 1 & ... & 50.0 & 13 &  20 &  20 &  50 & bug      & poison   &   3.2 & 1 & 0\\\\\n",
       "\t {[}'Shed Skin'{]}                                                     & 0.50 & 1 & 1 & 1.0 & 0.5 & 0.25 & 2.0 & 2.0 & 1 & ... & 50.0 & 14 &  25 &  25 &  35 & bug      & poison   &  10.0 & 1 & 0\\\\\n",
       "\t {[}'Swarm', 'Sniper'{]}                                               & 0.50 & 1 & 1 & 1.0 & 0.5 & 0.25 & 2.0 & 2.0 & 1 & ... & 50.0 & 15 &  15 &  80 & 145 & bug      & poison   &  29.5 & 1 & 0\\\\\n",
       "\t {[}'Keen Eye', 'Tangled Feet', 'Big Pecks'{]}                         & 0.50 & 1 & 1 & 2.0 & 1.0 & 1.00 & 1.0 & 1.0 & 0 & ... & 50.0 & 16 &  35 &  35 &  56 & normal   & flying   &   1.8 & 1 & 0\\\\\n",
       "\t {[}'Keen Eye', 'Tangled Feet', 'Big Pecks'{]}                         & 0.50 & 1 & 1 & 2.0 & 1.0 & 1.00 & 1.0 & 1.0 & 0 & ... & 50.0 & 17 &  50 &  50 &  71 & normal   & flying   &  30.0 & 1 & 0\\\\\n",
       "\t {[}'Keen Eye', 'Tangled Feet', 'Big Pecks'{]}                         & 0.50 & 1 & 1 & 2.0 & 1.0 & 1.00 & 1.0 & 1.0 & 0 & ... & 50.0 & 18 & 135 &  80 & 121 & normal   & flying   &  39.5 & 1 & 0\\\\\n",
       "\t {[}'Run Away', 'Guts', 'Hustle', 'Gluttony', 'Hustle', 'Thick Fat'{]} & 1.00 & 1 & 1 & 1.0 & 1.0 & 2.00 & 1.0 & 1.0 & 0 & ... & 50.0 & 19 &  25 &  35 &  72 & normal   & dark     &    NA & 1 & 0\\\\\n",
       "\t {[}'Run Away', 'Guts', 'Hustle', 'Gluttony', 'Hustle', 'Thick Fat'{]} & 1.00 & 1 & 1 & 1.0 & 1.0 & 2.00 & 1.0 & 1.0 & 0 & ... & 50.0 & 20 &  40 &  80 &  77 & normal   & dark     &    NA & 1 & 0\\\\\n",
       "\t {[}'Keen Eye', 'Sniper'{]}                                            & 0.50 & 1 & 1 & 2.0 & 1.0 & 1.00 & 1.0 & 1.0 & 0 & ... & 50.0 & 21 &  31 &  31 &  70 & normal   & flying   &   2.0 & 1 & 0\\\\\n",
       "\t {[}'Keen Eye', 'Sniper'{]}                                            & 0.50 & 1 & 1 & 2.0 & 1.0 & 1.00 & 1.0 & 1.0 & 0 & ... & 50.0 & 22 &  61 &  61 & 100 & normal   & flying   &  38.0 & 1 & 0\\\\\n",
       "\t {[}'Intimidate', 'Shed Skin', 'Unnerve'{]}                            & 0.50 & 1 & 1 & 1.0 & 0.5 & 0.50 & 1.0 & 1.0 & 1 & ... & 50.0 & 23 &  40 &  54 &  55 & poison   &          &   6.9 & 1 & 0\\\\\n",
       "\t {[}'Intimidate', 'Shed Skin', 'Unnerve'{]}                            & 0.50 & 1 & 1 & 1.0 & 0.5 & 0.50 & 1.0 & 1.0 & 1 & ... & 50.0 & 24 &  65 &  79 &  80 & poison   &          &  65.0 & 1 & 0\\\\\n",
       "\t {[}'Static', 'Lightningrod'{]}                                        & 1.00 & 1 & 1 & 0.5 & 1.0 & 1.00 & 1.0 & 0.5 & 1 & ... & 50.0 & 25 &  50 &  50 &  90 & electric &          &   6.0 & 1 & 0\\\\\n",
       "\t {[}'Static', 'Lightningrod', 'Surge Surfer'{]}                        & 1.00 & 1 & 1 & 0.5 & 1.0 & 1.00 & 1.0 & 0.5 & 1 & ... & 50.0 & 26 &  95 &  85 & 110 & electric & electric &    NA & 1 & 0\\\\\n",
       "\t {[}'Sand Veil', 'Sand Rush', 'Snow Cloak', 'Slush Rush'{]}            & 1.00 & 1 & 1 & 0.0 & 1.0 & 1.00 & 1.0 & 1.0 & 1 & ... & 50.0 & 27 &  10 &  35 &  40 & ground   & ice      &    NA & 1 & 0\\\\\n",
       "\t {[}'Sand Veil', 'Sand Rush', 'Snow Cloak', 'Slush Rush'{]}            & 1.00 & 1 & 1 & 0.0 & 1.0 & 1.00 & 1.0 & 1.0 & 1 & ... & 50.0 & 28 &  25 &  65 &  65 & ground   & ice      &    NA & 1 & 0\\\\\n",
       "\t {[}'Poison Point', 'Rivalry', 'Hustle'{]}                             & 0.50 & 1 & 1 & 1.0 & 0.5 & 0.50 & 1.0 & 1.0 & 1 & ... &  0.0 & 29 &  40 &  40 &  41 & poison   &          &   7.0 & 1 & 0\\\\\n",
       "\t {[}'Poison Point', 'Rivalry', 'Hustle'{]}                             & 0.50 & 1 & 1 & 1.0 & 0.5 & 0.50 & 1.0 & 1.0 & 1 & ... &  0.0 & 30 &  55 &  55 &  56 & poison   &          &  20.0 & 1 & 0\\\\\n",
       "\t ... & ... & ... & ... & ... & ... & ... & ... & ... & ... &  & ... & ... & ... & ... & ... & ... & ... & ... & ... & ...\\\\\n",
       "\t {[}'Battle Armor'{]}                           & 1.00 & 1.0 & 1.0 & 1.0 & 1.0 & 2.00 & 1.00 & 1.00 & 0.0 & ... & NA & 772 &  95 &  95 &  59 & normal   &          & 120.5 & 7 & 0\\\\\n",
       "\t {[}'RKS System'{]}                             & 1.00 & 1.0 & 1.0 & 1.0 & 1.0 & 2.00 & 1.00 & 1.00 & 0.0 & ... & NA & 773 &  95 &  95 &  95 & normal   &          & 100.5 & 7 & 0\\\\\n",
       "\t {[}'Shields Down'{]}                           & 0.50 & 1.0 & 1.0 & 2.0 & 1.0 & 1.00 & 0.50 & 0.50 & 1.0 & ... & NA & 774 & 100 &  60 & 120 & rock     & flying   &  40.0 & 7 & 0\\\\\n",
       "\t {[}'Comatose'{]}                               & 1.00 & 1.0 & 1.0 & 1.0 & 1.0 & 2.00 & 1.00 & 1.00 & 0.0 & ... & 50 & 775 &  75 &  95 &  65 & normal   &          &  19.9 & 7 & 0\\\\\n",
       "\t {[}'Shell Armor'{]}                            & 0.50 & 1.0 & 2.0 & 0.5 & 1.0 & 1.00 & 0.25 & 1.00 & 1.0 & ... & 50 & 776 &  91 &  85 &  36 & fire     & dragon   & 212.0 & 7 & 0\\\\\n",
       "\t {[}'Iron Barbs', 'Lightningrod', 'Sturdy'{]}   & 0.50 & 1.0 & 0.5 & 0.5 & 0.5 & 2.00 & 2.00 & 0.25 & 1.0 & ... & 50 & 777 &  40 &  73 &  96 & electric & steel    &   3.3 & 7 & 0\\\\\n",
       "\t {[}'Disguise'{]}                               & 0.25 & 1.0 & 0.0 & 1.0 & 1.0 & 0.00 & 1.00 & 1.00 & 2.0 & ... & 50 & 778 &  50 & 105 &  96 & ghost    & fairy    &   0.7 & 7 & 0\\\\\n",
       "\t {[}'Dazzling', 'Strong Jaw', 'Wonder Skin '{]} & 2.00 & 2.0 & 1.0 & 2.0 & 1.0 & 0.50 & 0.50 & 1.00 & 2.0 & ... & 50 & 779 &  70 &  70 &  92 & water    & psychic  &  19.0 & 7 & 0\\\\\n",
       "\t {[}'Berserk', 'Sap Sipper', 'Cloud Nine'{]}    & 1.00 & 1.0 & 2.0 & 0.5 & 2.0 & 2.00 & 0.50 & 1.00 & 0.0 & ... & 50 & 780 & 135 &  91 &  36 & normal   & dragon   & 185.0 & 7 & 0\\\\\n",
       "\t {[}'Steelworker'{]}                            & 1.00 & 2.0 & 1.0 & 0.5 & 1.0 & 0.00 & 2.00 & 2.00 & 2.0 & ... & NA & 781 &  86 &  90 &  40 & ghost    & grass    & 210.0 & 7 & 0\\\\\n",
       "\t {[}'Bulletproof', 'Soundproof', 'Overcoat'{]}  & 1.00 & 1.0 & 2.0 & 0.5 & 2.0 & 1.00 & 0.50 & 1.00 & 1.0 & ... & 50 & 782 &  45 &  45 &  45 & dragon   &          &  29.7 & 7 & 0\\\\\n",
       "\t {[}'Bulletproof', 'Soundproof', 'Overcoat'{]}  & 0.50 & 0.5 & 2.0 & 0.5 & 4.0 & 1.00 & 0.50 & 2.00 & 1.0 & ... & 50 & 783 &  65 &  70 &  65 & dragon   & fighting &  47.0 & 7 & 0\\\\\n",
       "\t {[}'Bulletproof', 'Soundproof', 'Overcoat'{]}  & 0.50 & 0.5 & 2.0 & 0.5 & 4.0 & 1.00 & 0.50 & 2.00 & 1.0 & ... & 50 & 784 & 100 & 105 &  85 & dragon   & fighting &  78.2 & 7 & 0\\\\\n",
       "\t {[}'Electric Surge', 'Telepathy'{]}            & 0.50 & 0.5 & 0.0 & 0.5 & 1.0 & 0.50 & 1.00 & 0.50 & 1.0 & ... & NA & 785 &  95 &  75 & 130 & electric & fairy    &  20.5 & 7 & 1\\\\\n",
       "\t {[}'Psychic Surge', 'Telepathy'{]}             & 1.00 & 1.0 & 0.0 & 1.0 & 1.0 & 0.25 & 1.00 & 1.00 & 2.0 & ... & NA & 786 & 130 & 115 &  95 & psychic  & fairy    &  18.6 & 7 & 1\\\\\n",
       "\t {[}'Grassy Surge', 'Telepathy'{]}              & 1.00 & 0.5 & 0.0 & 0.5 & 1.0 & 0.50 & 2.00 & 2.00 & 1.0 & ... & NA & 787 &  85 &  95 &  75 & grass    & fairy    &  45.5 & 7 & 1\\\\\n",
       "\t {[}'Misty Surge', 'Telepathy'{]}               & 0.50 & 0.5 & 0.0 & 2.0 & 1.0 & 0.50 & 0.50 & 1.00 & 1.0 & ... & NA & 788 &  95 & 130 &  85 & water    & fairy    &  21.2 & 7 & 1\\\\\n",
       "\t {[}'Unaware'{]}                                & 2.00 & 2.0 & 1.0 & 1.0 & 1.0 & 0.50 & 1.00 & 1.00 & 2.0 & ... & NA & 789 &  29 &  31 &  37 & psychic  &          &   0.1 & 7 & 1\\\\\n",
       "\t {[}'Sturdy'{]}                                 & 2.00 & 2.0 & 1.0 & 1.0 & 1.0 & 0.50 & 1.00 & 1.00 & 2.0 & ... & NA & 790 &  29 & 131 &  37 & psychic  &          & 999.9 & 7 & 1\\\\\n",
       "\t {[}'Full Metal Body'{]}                        & 1.00 & 2.0 & 0.5 & 1.0 & 0.5 & 1.00 & 2.00 & 0.50 & 2.0 & ... & NA & 791 & 113 &  89 &  97 & psychic  & steel    & 230.0 & 7 & 1\\\\\n",
       "\t {[}'Shadow Shield'{]}                          & 1.00 & 4.0 & 1.0 & 1.0 & 1.0 & 0.00 & 1.00 & 1.00 & 4.0 & ... & NA & 792 & 137 & 107 &  97 & psychic  & ghost    & 120.0 & 7 & 1\\\\\n",
       "\t {[}'Beast Boost'{]}                            & 0.50 & 1.0 & 1.0 & 1.0 & 0.5 & 1.00 & 0.50 & 0.50 & 1.0 & ... & NA & 793 & 127 & 131 & 103 & rock     & poison   &  55.5 & 7 & 1\\\\\n",
       "\t {[}'Beast Boost'{]}                            & 0.50 & 0.5 & 1.0 & 1.0 & 2.0 & 0.50 & 2.00 & 4.00 & 1.0 & ... & NA & 794 &  53 &  53 &  79 & bug      & fighting & 333.6 & 7 & 1\\\\\n",
       "\t {[}'Beast Boost'{]}                            & 0.50 & 0.5 & 1.0 & 1.0 & 2.0 & 0.50 & 2.00 & 4.00 & 1.0 & ... & NA & 795 & 137 &  37 & 151 & bug      & fighting &  25.0 & 7 & 1\\\\\n",
       "\t {[}'Beast Boost'{]}                            & 1.00 & 1.0 & 1.0 & 0.5 & 1.0 & 1.00 & 1.00 & 0.50 & 1.0 & ... & NA & 796 & 173 &  71 &  83 & electric &          & 100.0 & 7 & 1\\\\\n",
       "\t {[}'Beast Boost'{]}                            & 0.25 & 1.0 & 0.5 & 2.0 & 0.5 & 1.00 & 2.00 & 0.50 & 1.0 & ... & NA & 797 & 107 & 101 &  61 & steel    & flying   & 999.9 & 7 & 1\\\\\n",
       "\t {[}'Beast Boost'{]}                            & 1.00 & 1.0 & 0.5 & 0.5 & 0.5 & 2.00 & 4.00 & 1.00 & 1.0 & ... & NA & 798 &  59 &  31 & 109 & grass    & steel    &   0.1 & 7 & 1\\\\\n",
       "\t {[}'Beast Boost'{]}                            & 2.00 & 0.5 & 2.0 & 0.5 & 4.0 & 2.00 & 0.50 & 1.00 & 0.5 & ... & NA & 799 &  97 &  53 &  43 & dark     & dragon   & 888.0 & 7 & 1\\\\\n",
       "\t {[}'Prism Armor'{]}                            & 2.00 & 2.0 & 1.0 & 1.0 & 1.0 & 0.50 & 1.00 & 1.00 & 2.0 & ... & NA & 800 & 127 &  89 &  79 & psychic  &          & 230.0 & 7 & 1\\\\\n",
       "\t {[}'Soul-Heart'{]}                             & 0.25 & 0.5 & 0.0 & 1.0 & 0.5 & 1.00 & 2.00 & 0.50 & 1.0 & ... & NA & 801 & 130 & 115 &  65 & steel    & fairy    &  80.5 & 7 & 1\\\\\n",
       "\\end{tabular}\n"
      ],
      "text/markdown": [
       "\n",
       "A data.frame: 801 × 41\n",
       "\n",
       "| abilities &lt;chr&gt; | against_bug &lt;dbl&gt; | against_dark &lt;dbl&gt; | against_dragon &lt;dbl&gt; | against_electric &lt;dbl&gt; | against_fairy &lt;dbl&gt; | against_fight &lt;dbl&gt; | against_fire &lt;dbl&gt; | against_flying &lt;dbl&gt; | against_ghost &lt;dbl&gt; | ... ... | percentage_male &lt;dbl&gt; | pokedex_number &lt;int&gt; | sp_attack &lt;int&gt; | sp_defense &lt;int&gt; | speed &lt;int&gt; | type1 &lt;chr&gt; | type2 &lt;chr&gt; | weight_kg &lt;dbl&gt; | generation &lt;int&gt; | is_legendary &lt;int&gt; |\n",
       "|---|---|---|---|---|---|---|---|---|---|---|---|---|---|---|---|---|---|---|---|---|\n",
       "| ['Overgrow', 'Chlorophyll']                                       | 1.00 | 1 | 1 | 0.5 | 0.5 | 0.50 | 2.0 | 2.0 | 1 | ... | 88.1 |  1 |  65 |  65 |  45 | grass    | poison   |   6.9 | 1 | 0 |\n",
       "| ['Overgrow', 'Chlorophyll']                                       | 1.00 | 1 | 1 | 0.5 | 0.5 | 0.50 | 2.0 | 2.0 | 1 | ... | 88.1 |  2 |  80 |  80 |  60 | grass    | poison   |  13.0 | 1 | 0 |\n",
       "| ['Overgrow', 'Chlorophyll']                                       | 1.00 | 1 | 1 | 0.5 | 0.5 | 0.50 | 2.0 | 2.0 | 1 | ... | 88.1 |  3 | 122 | 120 |  80 | grass    | poison   | 100.0 | 1 | 0 |\n",
       "| ['Blaze', 'Solar Power']                                          | 0.50 | 1 | 1 | 1.0 | 0.5 | 1.00 | 0.5 | 1.0 | 1 | ... | 88.1 |  4 |  60 |  50 |  65 | fire     | <!----> |   8.5 | 1 | 0 |\n",
       "| ['Blaze', 'Solar Power']                                          | 0.50 | 1 | 1 | 1.0 | 0.5 | 1.00 | 0.5 | 1.0 | 1 | ... | 88.1 |  5 |  80 |  65 |  80 | fire     | <!----> |  19.0 | 1 | 0 |\n",
       "| ['Blaze', 'Solar Power']                                          | 0.25 | 1 | 1 | 2.0 | 0.5 | 0.50 | 0.5 | 1.0 | 1 | ... | 88.1 |  6 | 159 | 115 | 100 | fire     | flying   |  90.5 | 1 | 0 |\n",
       "| ['Torrent', 'Rain Dish']                                          | 1.00 | 1 | 1 | 2.0 | 1.0 | 1.00 | 0.5 | 1.0 | 1 | ... | 88.1 |  7 |  50 |  64 |  43 | water    | <!----> |   9.0 | 1 | 0 |\n",
       "| ['Torrent', 'Rain Dish']                                          | 1.00 | 1 | 1 | 2.0 | 1.0 | 1.00 | 0.5 | 1.0 | 1 | ... | 88.1 |  8 |  65 |  80 |  58 | water    | <!----> |  22.5 | 1 | 0 |\n",
       "| ['Torrent', 'Rain Dish']                                          | 1.00 | 1 | 1 | 2.0 | 1.0 | 1.00 | 0.5 | 1.0 | 1 | ... | 88.1 |  9 | 135 | 115 |  78 | water    | <!----> |  85.5 | 1 | 0 |\n",
       "| ['Shield Dust', 'Run Away']                                       | 1.00 | 1 | 1 | 1.0 | 1.0 | 0.50 | 2.0 | 2.0 | 1 | ... | 50.0 | 10 |  20 |  20 |  45 | bug      | <!----> |   2.9 | 1 | 0 |\n",
       "| ['Shed Skin']                                                     | 1.00 | 1 | 1 | 1.0 | 1.0 | 0.50 | 2.0 | 2.0 | 1 | ... | 50.0 | 11 |  25 |  25 |  30 | bug      | <!----> |   9.9 | 1 | 0 |\n",
       "| ['Compoundeyes', 'Tinted Lens']                                   | 0.50 | 1 | 1 | 2.0 | 1.0 | 0.25 | 2.0 | 2.0 | 1 | ... | 50.0 | 12 |  90 |  80 |  70 | bug      | flying   |  32.0 | 1 | 0 |\n",
       "| ['Shield Dust', 'Run Away']                                       | 0.50 | 1 | 1 | 1.0 | 0.5 | 0.25 | 2.0 | 2.0 | 1 | ... | 50.0 | 13 |  20 |  20 |  50 | bug      | poison   |   3.2 | 1 | 0 |\n",
       "| ['Shed Skin']                                                     | 0.50 | 1 | 1 | 1.0 | 0.5 | 0.25 | 2.0 | 2.0 | 1 | ... | 50.0 | 14 |  25 |  25 |  35 | bug      | poison   |  10.0 | 1 | 0 |\n",
       "| ['Swarm', 'Sniper']                                               | 0.50 | 1 | 1 | 1.0 | 0.5 | 0.25 | 2.0 | 2.0 | 1 | ... | 50.0 | 15 |  15 |  80 | 145 | bug      | poison   |  29.5 | 1 | 0 |\n",
       "| ['Keen Eye', 'Tangled Feet', 'Big Pecks']                         | 0.50 | 1 | 1 | 2.0 | 1.0 | 1.00 | 1.0 | 1.0 | 0 | ... | 50.0 | 16 |  35 |  35 |  56 | normal   | flying   |   1.8 | 1 | 0 |\n",
       "| ['Keen Eye', 'Tangled Feet', 'Big Pecks']                         | 0.50 | 1 | 1 | 2.0 | 1.0 | 1.00 | 1.0 | 1.0 | 0 | ... | 50.0 | 17 |  50 |  50 |  71 | normal   | flying   |  30.0 | 1 | 0 |\n",
       "| ['Keen Eye', 'Tangled Feet', 'Big Pecks']                         | 0.50 | 1 | 1 | 2.0 | 1.0 | 1.00 | 1.0 | 1.0 | 0 | ... | 50.0 | 18 | 135 |  80 | 121 | normal   | flying   |  39.5 | 1 | 0 |\n",
       "| ['Run Away', 'Guts', 'Hustle', 'Gluttony', 'Hustle', 'Thick Fat'] | 1.00 | 1 | 1 | 1.0 | 1.0 | 2.00 | 1.0 | 1.0 | 0 | ... | 50.0 | 19 |  25 |  35 |  72 | normal   | dark     |    NA | 1 | 0 |\n",
       "| ['Run Away', 'Guts', 'Hustle', 'Gluttony', 'Hustle', 'Thick Fat'] | 1.00 | 1 | 1 | 1.0 | 1.0 | 2.00 | 1.0 | 1.0 | 0 | ... | 50.0 | 20 |  40 |  80 |  77 | normal   | dark     |    NA | 1 | 0 |\n",
       "| ['Keen Eye', 'Sniper']                                            | 0.50 | 1 | 1 | 2.0 | 1.0 | 1.00 | 1.0 | 1.0 | 0 | ... | 50.0 | 21 |  31 |  31 |  70 | normal   | flying   |   2.0 | 1 | 0 |\n",
       "| ['Keen Eye', 'Sniper']                                            | 0.50 | 1 | 1 | 2.0 | 1.0 | 1.00 | 1.0 | 1.0 | 0 | ... | 50.0 | 22 |  61 |  61 | 100 | normal   | flying   |  38.0 | 1 | 0 |\n",
       "| ['Intimidate', 'Shed Skin', 'Unnerve']                            | 0.50 | 1 | 1 | 1.0 | 0.5 | 0.50 | 1.0 | 1.0 | 1 | ... | 50.0 | 23 |  40 |  54 |  55 | poison   | <!----> |   6.9 | 1 | 0 |\n",
       "| ['Intimidate', 'Shed Skin', 'Unnerve']                            | 0.50 | 1 | 1 | 1.0 | 0.5 | 0.50 | 1.0 | 1.0 | 1 | ... | 50.0 | 24 |  65 |  79 |  80 | poison   | <!----> |  65.0 | 1 | 0 |\n",
       "| ['Static', 'Lightningrod']                                        | 1.00 | 1 | 1 | 0.5 | 1.0 | 1.00 | 1.0 | 0.5 | 1 | ... | 50.0 | 25 |  50 |  50 |  90 | electric | <!----> |   6.0 | 1 | 0 |\n",
       "| ['Static', 'Lightningrod', 'Surge Surfer']                        | 1.00 | 1 | 1 | 0.5 | 1.0 | 1.00 | 1.0 | 0.5 | 1 | ... | 50.0 | 26 |  95 |  85 | 110 | electric | electric |    NA | 1 | 0 |\n",
       "| ['Sand Veil', 'Sand Rush', 'Snow Cloak', 'Slush Rush']            | 1.00 | 1 | 1 | 0.0 | 1.0 | 1.00 | 1.0 | 1.0 | 1 | ... | 50.0 | 27 |  10 |  35 |  40 | ground   | ice      |    NA | 1 | 0 |\n",
       "| ['Sand Veil', 'Sand Rush', 'Snow Cloak', 'Slush Rush']            | 1.00 | 1 | 1 | 0.0 | 1.0 | 1.00 | 1.0 | 1.0 | 1 | ... | 50.0 | 28 |  25 |  65 |  65 | ground   | ice      |    NA | 1 | 0 |\n",
       "| ['Poison Point', 'Rivalry', 'Hustle']                             | 0.50 | 1 | 1 | 1.0 | 0.5 | 0.50 | 1.0 | 1.0 | 1 | ... |  0.0 | 29 |  40 |  40 |  41 | poison   | <!----> |   7.0 | 1 | 0 |\n",
       "| ['Poison Point', 'Rivalry', 'Hustle']                             | 0.50 | 1 | 1 | 1.0 | 0.5 | 0.50 | 1.0 | 1.0 | 1 | ... |  0.0 | 30 |  55 |  55 |  56 | poison   | <!----> |  20.0 | 1 | 0 |\n",
       "| ... | ... | ... | ... | ... | ... | ... | ... | ... | ... | <!----> | ... | ... | ... | ... | ... | ... | ... | ... | ... | ... |\n",
       "| ['Battle Armor']                           | 1.00 | 1.0 | 1.0 | 1.0 | 1.0 | 2.00 | 1.00 | 1.00 | 0.0 | ... | NA | 772 |  95 |  95 |  59 | normal   | <!----> | 120.5 | 7 | 0 |\n",
       "| ['RKS System']                             | 1.00 | 1.0 | 1.0 | 1.0 | 1.0 | 2.00 | 1.00 | 1.00 | 0.0 | ... | NA | 773 |  95 |  95 |  95 | normal   | <!----> | 100.5 | 7 | 0 |\n",
       "| ['Shields Down']                           | 0.50 | 1.0 | 1.0 | 2.0 | 1.0 | 1.00 | 0.50 | 0.50 | 1.0 | ... | NA | 774 | 100 |  60 | 120 | rock     | flying   |  40.0 | 7 | 0 |\n",
       "| ['Comatose']                               | 1.00 | 1.0 | 1.0 | 1.0 | 1.0 | 2.00 | 1.00 | 1.00 | 0.0 | ... | 50 | 775 |  75 |  95 |  65 | normal   | <!----> |  19.9 | 7 | 0 |\n",
       "| ['Shell Armor']                            | 0.50 | 1.0 | 2.0 | 0.5 | 1.0 | 1.00 | 0.25 | 1.00 | 1.0 | ... | 50 | 776 |  91 |  85 |  36 | fire     | dragon   | 212.0 | 7 | 0 |\n",
       "| ['Iron Barbs', 'Lightningrod', 'Sturdy']   | 0.50 | 1.0 | 0.5 | 0.5 | 0.5 | 2.00 | 2.00 | 0.25 | 1.0 | ... | 50 | 777 |  40 |  73 |  96 | electric | steel    |   3.3 | 7 | 0 |\n",
       "| ['Disguise']                               | 0.25 | 1.0 | 0.0 | 1.0 | 1.0 | 0.00 | 1.00 | 1.00 | 2.0 | ... | 50 | 778 |  50 | 105 |  96 | ghost    | fairy    |   0.7 | 7 | 0 |\n",
       "| ['Dazzling', 'Strong Jaw', 'Wonder Skin '] | 2.00 | 2.0 | 1.0 | 2.0 | 1.0 | 0.50 | 0.50 | 1.00 | 2.0 | ... | 50 | 779 |  70 |  70 |  92 | water    | psychic  |  19.0 | 7 | 0 |\n",
       "| ['Berserk', 'Sap Sipper', 'Cloud Nine']    | 1.00 | 1.0 | 2.0 | 0.5 | 2.0 | 2.00 | 0.50 | 1.00 | 0.0 | ... | 50 | 780 | 135 |  91 |  36 | normal   | dragon   | 185.0 | 7 | 0 |\n",
       "| ['Steelworker']                            | 1.00 | 2.0 | 1.0 | 0.5 | 1.0 | 0.00 | 2.00 | 2.00 | 2.0 | ... | NA | 781 |  86 |  90 |  40 | ghost    | grass    | 210.0 | 7 | 0 |\n",
       "| ['Bulletproof', 'Soundproof', 'Overcoat']  | 1.00 | 1.0 | 2.0 | 0.5 | 2.0 | 1.00 | 0.50 | 1.00 | 1.0 | ... | 50 | 782 |  45 |  45 |  45 | dragon   | <!----> |  29.7 | 7 | 0 |\n",
       "| ['Bulletproof', 'Soundproof', 'Overcoat']  | 0.50 | 0.5 | 2.0 | 0.5 | 4.0 | 1.00 | 0.50 | 2.00 | 1.0 | ... | 50 | 783 |  65 |  70 |  65 | dragon   | fighting |  47.0 | 7 | 0 |\n",
       "| ['Bulletproof', 'Soundproof', 'Overcoat']  | 0.50 | 0.5 | 2.0 | 0.5 | 4.0 | 1.00 | 0.50 | 2.00 | 1.0 | ... | 50 | 784 | 100 | 105 |  85 | dragon   | fighting |  78.2 | 7 | 0 |\n",
       "| ['Electric Surge', 'Telepathy']            | 0.50 | 0.5 | 0.0 | 0.5 | 1.0 | 0.50 | 1.00 | 0.50 | 1.0 | ... | NA | 785 |  95 |  75 | 130 | electric | fairy    |  20.5 | 7 | 1 |\n",
       "| ['Psychic Surge', 'Telepathy']             | 1.00 | 1.0 | 0.0 | 1.0 | 1.0 | 0.25 | 1.00 | 1.00 | 2.0 | ... | NA | 786 | 130 | 115 |  95 | psychic  | fairy    |  18.6 | 7 | 1 |\n",
       "| ['Grassy Surge', 'Telepathy']              | 1.00 | 0.5 | 0.0 | 0.5 | 1.0 | 0.50 | 2.00 | 2.00 | 1.0 | ... | NA | 787 |  85 |  95 |  75 | grass    | fairy    |  45.5 | 7 | 1 |\n",
       "| ['Misty Surge', 'Telepathy']               | 0.50 | 0.5 | 0.0 | 2.0 | 1.0 | 0.50 | 0.50 | 1.00 | 1.0 | ... | NA | 788 |  95 | 130 |  85 | water    | fairy    |  21.2 | 7 | 1 |\n",
       "| ['Unaware']                                | 2.00 | 2.0 | 1.0 | 1.0 | 1.0 | 0.50 | 1.00 | 1.00 | 2.0 | ... | NA | 789 |  29 |  31 |  37 | psychic  | <!----> |   0.1 | 7 | 1 |\n",
       "| ['Sturdy']                                 | 2.00 | 2.0 | 1.0 | 1.0 | 1.0 | 0.50 | 1.00 | 1.00 | 2.0 | ... | NA | 790 |  29 | 131 |  37 | psychic  | <!----> | 999.9 | 7 | 1 |\n",
       "| ['Full Metal Body']                        | 1.00 | 2.0 | 0.5 | 1.0 | 0.5 | 1.00 | 2.00 | 0.50 | 2.0 | ... | NA | 791 | 113 |  89 |  97 | psychic  | steel    | 230.0 | 7 | 1 |\n",
       "| ['Shadow Shield']                          | 1.00 | 4.0 | 1.0 | 1.0 | 1.0 | 0.00 | 1.00 | 1.00 | 4.0 | ... | NA | 792 | 137 | 107 |  97 | psychic  | ghost    | 120.0 | 7 | 1 |\n",
       "| ['Beast Boost']                            | 0.50 | 1.0 | 1.0 | 1.0 | 0.5 | 1.00 | 0.50 | 0.50 | 1.0 | ... | NA | 793 | 127 | 131 | 103 | rock     | poison   |  55.5 | 7 | 1 |\n",
       "| ['Beast Boost']                            | 0.50 | 0.5 | 1.0 | 1.0 | 2.0 | 0.50 | 2.00 | 4.00 | 1.0 | ... | NA | 794 |  53 |  53 |  79 | bug      | fighting | 333.6 | 7 | 1 |\n",
       "| ['Beast Boost']                            | 0.50 | 0.5 | 1.0 | 1.0 | 2.0 | 0.50 | 2.00 | 4.00 | 1.0 | ... | NA | 795 | 137 |  37 | 151 | bug      | fighting |  25.0 | 7 | 1 |\n",
       "| ['Beast Boost']                            | 1.00 | 1.0 | 1.0 | 0.5 | 1.0 | 1.00 | 1.00 | 0.50 | 1.0 | ... | NA | 796 | 173 |  71 |  83 | electric | <!----> | 100.0 | 7 | 1 |\n",
       "| ['Beast Boost']                            | 0.25 | 1.0 | 0.5 | 2.0 | 0.5 | 1.00 | 2.00 | 0.50 | 1.0 | ... | NA | 797 | 107 | 101 |  61 | steel    | flying   | 999.9 | 7 | 1 |\n",
       "| ['Beast Boost']                            | 1.00 | 1.0 | 0.5 | 0.5 | 0.5 | 2.00 | 4.00 | 1.00 | 1.0 | ... | NA | 798 |  59 |  31 | 109 | grass    | steel    |   0.1 | 7 | 1 |\n",
       "| ['Beast Boost']                            | 2.00 | 0.5 | 2.0 | 0.5 | 4.0 | 2.00 | 0.50 | 1.00 | 0.5 | ... | NA | 799 |  97 |  53 |  43 | dark     | dragon   | 888.0 | 7 | 1 |\n",
       "| ['Prism Armor']                            | 2.00 | 2.0 | 1.0 | 1.0 | 1.0 | 0.50 | 1.00 | 1.00 | 2.0 | ... | NA | 800 | 127 |  89 |  79 | psychic  | <!----> | 230.0 | 7 | 1 |\n",
       "| ['Soul-Heart']                             | 0.25 | 0.5 | 0.0 | 1.0 | 0.5 | 1.00 | 2.00 | 0.50 | 1.0 | ... | NA | 801 | 130 | 115 |  65 | steel    | fairy    |  80.5 | 7 | 1 |\n",
       "\n"
      ],
      "text/plain": [
       "    abilities                                                        \n",
       "1   ['Overgrow', 'Chlorophyll']                                      \n",
       "2   ['Overgrow', 'Chlorophyll']                                      \n",
       "3   ['Overgrow', 'Chlorophyll']                                      \n",
       "4   ['Blaze', 'Solar Power']                                         \n",
       "5   ['Blaze', 'Solar Power']                                         \n",
       "6   ['Blaze', 'Solar Power']                                         \n",
       "7   ['Torrent', 'Rain Dish']                                         \n",
       "8   ['Torrent', 'Rain Dish']                                         \n",
       "9   ['Torrent', 'Rain Dish']                                         \n",
       "10  ['Shield Dust', 'Run Away']                                      \n",
       "11  ['Shed Skin']                                                    \n",
       "12  ['Compoundeyes', 'Tinted Lens']                                  \n",
       "13  ['Shield Dust', 'Run Away']                                      \n",
       "14  ['Shed Skin']                                                    \n",
       "15  ['Swarm', 'Sniper']                                              \n",
       "16  ['Keen Eye', 'Tangled Feet', 'Big Pecks']                        \n",
       "17  ['Keen Eye', 'Tangled Feet', 'Big Pecks']                        \n",
       "18  ['Keen Eye', 'Tangled Feet', 'Big Pecks']                        \n",
       "19  ['Run Away', 'Guts', 'Hustle', 'Gluttony', 'Hustle', 'Thick Fat']\n",
       "20  ['Run Away', 'Guts', 'Hustle', 'Gluttony', 'Hustle', 'Thick Fat']\n",
       "21  ['Keen Eye', 'Sniper']                                           \n",
       "22  ['Keen Eye', 'Sniper']                                           \n",
       "23  ['Intimidate', 'Shed Skin', 'Unnerve']                           \n",
       "24  ['Intimidate', 'Shed Skin', 'Unnerve']                           \n",
       "25  ['Static', 'Lightningrod']                                       \n",
       "26  ['Static', 'Lightningrod', 'Surge Surfer']                       \n",
       "27  ['Sand Veil', 'Sand Rush', 'Snow Cloak', 'Slush Rush']           \n",
       "28  ['Sand Veil', 'Sand Rush', 'Snow Cloak', 'Slush Rush']           \n",
       "29  ['Poison Point', 'Rivalry', 'Hustle']                            \n",
       "30  ['Poison Point', 'Rivalry', 'Hustle']                            \n",
       "... ...                                                              \n",
       "772 ['Battle Armor']                                                 \n",
       "773 ['RKS System']                                                   \n",
       "774 ['Shields Down']                                                 \n",
       "775 ['Comatose']                                                     \n",
       "776 ['Shell Armor']                                                  \n",
       "777 ['Iron Barbs', 'Lightningrod', 'Sturdy']                         \n",
       "778 ['Disguise']                                                     \n",
       "779 ['Dazzling', 'Strong Jaw', 'Wonder Skin ']                       \n",
       "780 ['Berserk', 'Sap Sipper', 'Cloud Nine']                          \n",
       "781 ['Steelworker']                                                  \n",
       "782 ['Bulletproof', 'Soundproof', 'Overcoat']                        \n",
       "783 ['Bulletproof', 'Soundproof', 'Overcoat']                        \n",
       "784 ['Bulletproof', 'Soundproof', 'Overcoat']                        \n",
       "785 ['Electric Surge', 'Telepathy']                                  \n",
       "786 ['Psychic Surge', 'Telepathy']                                   \n",
       "787 ['Grassy Surge', 'Telepathy']                                    \n",
       "788 ['Misty Surge', 'Telepathy']                                     \n",
       "789 ['Unaware']                                                      \n",
       "790 ['Sturdy']                                                       \n",
       "791 ['Full Metal Body']                                              \n",
       "792 ['Shadow Shield']                                                \n",
       "793 ['Beast Boost']                                                  \n",
       "794 ['Beast Boost']                                                  \n",
       "795 ['Beast Boost']                                                  \n",
       "796 ['Beast Boost']                                                  \n",
       "797 ['Beast Boost']                                                  \n",
       "798 ['Beast Boost']                                                  \n",
       "799 ['Beast Boost']                                                  \n",
       "800 ['Prism Armor']                                                  \n",
       "801 ['Soul-Heart']                                                   \n",
       "    against_bug against_dark against_dragon against_electric against_fairy\n",
       "1   1.00        1            1              0.5              0.5          \n",
       "2   1.00        1            1              0.5              0.5          \n",
       "3   1.00        1            1              0.5              0.5          \n",
       "4   0.50        1            1              1.0              0.5          \n",
       "5   0.50        1            1              1.0              0.5          \n",
       "6   0.25        1            1              2.0              0.5          \n",
       "7   1.00        1            1              2.0              1.0          \n",
       "8   1.00        1            1              2.0              1.0          \n",
       "9   1.00        1            1              2.0              1.0          \n",
       "10  1.00        1            1              1.0              1.0          \n",
       "11  1.00        1            1              1.0              1.0          \n",
       "12  0.50        1            1              2.0              1.0          \n",
       "13  0.50        1            1              1.0              0.5          \n",
       "14  0.50        1            1              1.0              0.5          \n",
       "15  0.50        1            1              1.0              0.5          \n",
       "16  0.50        1            1              2.0              1.0          \n",
       "17  0.50        1            1              2.0              1.0          \n",
       "18  0.50        1            1              2.0              1.0          \n",
       "19  1.00        1            1              1.0              1.0          \n",
       "20  1.00        1            1              1.0              1.0          \n",
       "21  0.50        1            1              2.0              1.0          \n",
       "22  0.50        1            1              2.0              1.0          \n",
       "23  0.50        1            1              1.0              0.5          \n",
       "24  0.50        1            1              1.0              0.5          \n",
       "25  1.00        1            1              0.5              1.0          \n",
       "26  1.00        1            1              0.5              1.0          \n",
       "27  1.00        1            1              0.0              1.0          \n",
       "28  1.00        1            1              0.0              1.0          \n",
       "29  0.50        1            1              1.0              0.5          \n",
       "30  0.50        1            1              1.0              0.5          \n",
       "... ...         ...          ...            ...              ...          \n",
       "772 1.00        1.0          1.0            1.0              1.0          \n",
       "773 1.00        1.0          1.0            1.0              1.0          \n",
       "774 0.50        1.0          1.0            2.0              1.0          \n",
       "775 1.00        1.0          1.0            1.0              1.0          \n",
       "776 0.50        1.0          2.0            0.5              1.0          \n",
       "777 0.50        1.0          0.5            0.5              0.5          \n",
       "778 0.25        1.0          0.0            1.0              1.0          \n",
       "779 2.00        2.0          1.0            2.0              1.0          \n",
       "780 1.00        1.0          2.0            0.5              2.0          \n",
       "781 1.00        2.0          1.0            0.5              1.0          \n",
       "782 1.00        1.0          2.0            0.5              2.0          \n",
       "783 0.50        0.5          2.0            0.5              4.0          \n",
       "784 0.50        0.5          2.0            0.5              4.0          \n",
       "785 0.50        0.5          0.0            0.5              1.0          \n",
       "786 1.00        1.0          0.0            1.0              1.0          \n",
       "787 1.00        0.5          0.0            0.5              1.0          \n",
       "788 0.50        0.5          0.0            2.0              1.0          \n",
       "789 2.00        2.0          1.0            1.0              1.0          \n",
       "790 2.00        2.0          1.0            1.0              1.0          \n",
       "791 1.00        2.0          0.5            1.0              0.5          \n",
       "792 1.00        4.0          1.0            1.0              1.0          \n",
       "793 0.50        1.0          1.0            1.0              0.5          \n",
       "794 0.50        0.5          1.0            1.0              2.0          \n",
       "795 0.50        0.5          1.0            1.0              2.0          \n",
       "796 1.00        1.0          1.0            0.5              1.0          \n",
       "797 0.25        1.0          0.5            2.0              0.5          \n",
       "798 1.00        1.0          0.5            0.5              0.5          \n",
       "799 2.00        0.5          2.0            0.5              4.0          \n",
       "800 2.00        2.0          1.0            1.0              1.0          \n",
       "801 0.25        0.5          0.0            1.0              0.5          \n",
       "    against_fight against_fire against_flying against_ghost ... percentage_male\n",
       "1   0.50          2.0          2.0            1             ... 88.1           \n",
       "2   0.50          2.0          2.0            1             ... 88.1           \n",
       "3   0.50          2.0          2.0            1             ... 88.1           \n",
       "4   1.00          0.5          1.0            1             ... 88.1           \n",
       "5   1.00          0.5          1.0            1             ... 88.1           \n",
       "6   0.50          0.5          1.0            1             ... 88.1           \n",
       "7   1.00          0.5          1.0            1             ... 88.1           \n",
       "8   1.00          0.5          1.0            1             ... 88.1           \n",
       "9   1.00          0.5          1.0            1             ... 88.1           \n",
       "10  0.50          2.0          2.0            1             ... 50.0           \n",
       "11  0.50          2.0          2.0            1             ... 50.0           \n",
       "12  0.25          2.0          2.0            1             ... 50.0           \n",
       "13  0.25          2.0          2.0            1             ... 50.0           \n",
       "14  0.25          2.0          2.0            1             ... 50.0           \n",
       "15  0.25          2.0          2.0            1             ... 50.0           \n",
       "16  1.00          1.0          1.0            0             ... 50.0           \n",
       "17  1.00          1.0          1.0            0             ... 50.0           \n",
       "18  1.00          1.0          1.0            0             ... 50.0           \n",
       "19  2.00          1.0          1.0            0             ... 50.0           \n",
       "20  2.00          1.0          1.0            0             ... 50.0           \n",
       "21  1.00          1.0          1.0            0             ... 50.0           \n",
       "22  1.00          1.0          1.0            0             ... 50.0           \n",
       "23  0.50          1.0          1.0            1             ... 50.0           \n",
       "24  0.50          1.0          1.0            1             ... 50.0           \n",
       "25  1.00          1.0          0.5            1             ... 50.0           \n",
       "26  1.00          1.0          0.5            1             ... 50.0           \n",
       "27  1.00          1.0          1.0            1             ... 50.0           \n",
       "28  1.00          1.0          1.0            1             ... 50.0           \n",
       "29  0.50          1.0          1.0            1             ...  0.0           \n",
       "30  0.50          1.0          1.0            1             ...  0.0           \n",
       "... ...           ...          ...            ...               ...            \n",
       "772 2.00          1.00         1.00           0.0           ... NA             \n",
       "773 2.00          1.00         1.00           0.0           ... NA             \n",
       "774 1.00          0.50         0.50           1.0           ... NA             \n",
       "775 2.00          1.00         1.00           0.0           ... 50             \n",
       "776 1.00          0.25         1.00           1.0           ... 50             \n",
       "777 2.00          2.00         0.25           1.0           ... 50             \n",
       "778 0.00          1.00         1.00           2.0           ... 50             \n",
       "779 0.50          0.50         1.00           2.0           ... 50             \n",
       "780 2.00          0.50         1.00           0.0           ... 50             \n",
       "781 0.00          2.00         2.00           2.0           ... NA             \n",
       "782 1.00          0.50         1.00           1.0           ... 50             \n",
       "783 1.00          0.50         2.00           1.0           ... 50             \n",
       "784 1.00          0.50         2.00           1.0           ... 50             \n",
       "785 0.50          1.00         0.50           1.0           ... NA             \n",
       "786 0.25          1.00         1.00           2.0           ... NA             \n",
       "787 0.50          2.00         2.00           1.0           ... NA             \n",
       "788 0.50          0.50         1.00           1.0           ... NA             \n",
       "789 0.50          1.00         1.00           2.0           ... NA             \n",
       "790 0.50          1.00         1.00           2.0           ... NA             \n",
       "791 1.00          2.00         0.50           2.0           ... NA             \n",
       "792 0.00          1.00         1.00           4.0           ... NA             \n",
       "793 1.00          0.50         0.50           1.0           ... NA             \n",
       "794 0.50          2.00         4.00           1.0           ... NA             \n",
       "795 0.50          2.00         4.00           1.0           ... NA             \n",
       "796 1.00          1.00         0.50           1.0           ... NA             \n",
       "797 1.00          2.00         0.50           1.0           ... NA             \n",
       "798 2.00          4.00         1.00           1.0           ... NA             \n",
       "799 2.00          0.50         1.00           0.5           ... NA             \n",
       "800 0.50          1.00         1.00           2.0           ... NA             \n",
       "801 1.00          2.00         0.50           1.0           ... NA             \n",
       "    pokedex_number sp_attack sp_defense speed type1    type2    weight_kg\n",
       "1    1              65        65         45   grass    poison     6.9    \n",
       "2    2              80        80         60   grass    poison    13.0    \n",
       "3    3             122       120         80   grass    poison   100.0    \n",
       "4    4              60        50         65   fire                8.5    \n",
       "5    5              80        65         80   fire               19.0    \n",
       "6    6             159       115        100   fire     flying    90.5    \n",
       "7    7              50        64         43   water               9.0    \n",
       "8    8              65        80         58   water              22.5    \n",
       "9    9             135       115         78   water              85.5    \n",
       "10  10              20        20         45   bug                 2.9    \n",
       "11  11              25        25         30   bug                 9.9    \n",
       "12  12              90        80         70   bug      flying    32.0    \n",
       "13  13              20        20         50   bug      poison     3.2    \n",
       "14  14              25        25         35   bug      poison    10.0    \n",
       "15  15              15        80        145   bug      poison    29.5    \n",
       "16  16              35        35         56   normal   flying     1.8    \n",
       "17  17              50        50         71   normal   flying    30.0    \n",
       "18  18             135        80        121   normal   flying    39.5    \n",
       "19  19              25        35         72   normal   dark        NA    \n",
       "20  20              40        80         77   normal   dark        NA    \n",
       "21  21              31        31         70   normal   flying     2.0    \n",
       "22  22              61        61        100   normal   flying    38.0    \n",
       "23  23              40        54         55   poison              6.9    \n",
       "24  24              65        79         80   poison             65.0    \n",
       "25  25              50        50         90   electric            6.0    \n",
       "26  26              95        85        110   electric electric    NA    \n",
       "27  27              10        35         40   ground   ice         NA    \n",
       "28  28              25        65         65   ground   ice         NA    \n",
       "29  29              40        40         41   poison              7.0    \n",
       "30  30              55        55         56   poison             20.0    \n",
       "... ...            ...       ...        ...   ...      ...      ...      \n",
       "772 772             95        95         59   normal            120.5    \n",
       "773 773             95        95         95   normal            100.5    \n",
       "774 774            100        60        120   rock     flying    40.0    \n",
       "775 775             75        95         65   normal             19.9    \n",
       "776 776             91        85         36   fire     dragon   212.0    \n",
       "777 777             40        73         96   electric steel      3.3    \n",
       "778 778             50       105         96   ghost    fairy      0.7    \n",
       "779 779             70        70         92   water    psychic   19.0    \n",
       "780 780            135        91         36   normal   dragon   185.0    \n",
       "781 781             86        90         40   ghost    grass    210.0    \n",
       "782 782             45        45         45   dragon             29.7    \n",
       "783 783             65        70         65   dragon   fighting  47.0    \n",
       "784 784            100       105         85   dragon   fighting  78.2    \n",
       "785 785             95        75        130   electric fairy     20.5    \n",
       "786 786            130       115         95   psychic  fairy     18.6    \n",
       "787 787             85        95         75   grass    fairy     45.5    \n",
       "788 788             95       130         85   water    fairy     21.2    \n",
       "789 789             29        31         37   psychic             0.1    \n",
       "790 790             29       131         37   psychic           999.9    \n",
       "791 791            113        89         97   psychic  steel    230.0    \n",
       "792 792            137       107         97   psychic  ghost    120.0    \n",
       "793 793            127       131        103   rock     poison    55.5    \n",
       "794 794             53        53         79   bug      fighting 333.6    \n",
       "795 795            137        37        151   bug      fighting  25.0    \n",
       "796 796            173        71         83   electric          100.0    \n",
       "797 797            107       101         61   steel    flying   999.9    \n",
       "798 798             59        31        109   grass    steel      0.1    \n",
       "799 799             97        53         43   dark     dragon   888.0    \n",
       "800 800            127        89         79   psychic           230.0    \n",
       "801 801            130       115         65   steel    fairy     80.5    \n",
       "    generation is_legendary\n",
       "1   1          0           \n",
       "2   1          0           \n",
       "3   1          0           \n",
       "4   1          0           \n",
       "5   1          0           \n",
       "6   1          0           \n",
       "7   1          0           \n",
       "8   1          0           \n",
       "9   1          0           \n",
       "10  1          0           \n",
       "11  1          0           \n",
       "12  1          0           \n",
       "13  1          0           \n",
       "14  1          0           \n",
       "15  1          0           \n",
       "16  1          0           \n",
       "17  1          0           \n",
       "18  1          0           \n",
       "19  1          0           \n",
       "20  1          0           \n",
       "21  1          0           \n",
       "22  1          0           \n",
       "23  1          0           \n",
       "24  1          0           \n",
       "25  1          0           \n",
       "26  1          0           \n",
       "27  1          0           \n",
       "28  1          0           \n",
       "29  1          0           \n",
       "30  1          0           \n",
       "... ...        ...         \n",
       "772 7          0           \n",
       "773 7          0           \n",
       "774 7          0           \n",
       "775 7          0           \n",
       "776 7          0           \n",
       "777 7          0           \n",
       "778 7          0           \n",
       "779 7          0           \n",
       "780 7          0           \n",
       "781 7          0           \n",
       "782 7          0           \n",
       "783 7          0           \n",
       "784 7          0           \n",
       "785 7          1           \n",
       "786 7          1           \n",
       "787 7          1           \n",
       "788 7          1           \n",
       "789 7          1           \n",
       "790 7          1           \n",
       "791 7          1           \n",
       "792 7          1           \n",
       "793 7          1           \n",
       "794 7          1           \n",
       "795 7          1           \n",
       "796 7          1           \n",
       "797 7          1           \n",
       "798 7          1           \n",
       "799 7          1           \n",
       "800 7          1           \n",
       "801 7          1           "
      ]
     },
     "metadata": {},
     "output_type": "display_data"
    }
   ],
   "source": [
    "View(pokemon)"
   ]
  },
  {
   "cell_type": "markdown",
   "id": "8bf6ede9",
   "metadata": {},
   "source": [
    "Understanding dataset"
   ]
  },
  {
   "cell_type": "code",
   "execution_count": 3,
   "id": "71f04237",
   "metadata": {},
   "outputs": [
    {
     "data": {
      "text/html": [
       "801"
      ],
      "text/latex": [
       "801"
      ],
      "text/markdown": [
       "801"
      ],
      "text/plain": [
       "[1] 801"
      ]
     },
     "metadata": {},
     "output_type": "display_data"
    }
   ],
   "source": [
    "nrow(pokemon)"
   ]
  },
  {
   "cell_type": "code",
   "execution_count": 4,
   "id": "f8e6278e",
   "metadata": {},
   "outputs": [
    {
     "data": {
      "text/html": [
       "41"
      ],
      "text/latex": [
       "41"
      ],
      "text/markdown": [
       "41"
      ],
      "text/plain": [
       "[1] 41"
      ]
     },
     "metadata": {},
     "output_type": "display_data"
    }
   ],
   "source": [
    "ncol(pokemon)"
   ]
  },
  {
   "cell_type": "code",
   "execution_count": 5,
   "id": "bd2e5837",
   "metadata": {},
   "outputs": [
    {
     "data": {
      "text/html": [
       "138"
      ],
      "text/latex": [
       "138"
      ],
      "text/markdown": [
       "138"
      ],
      "text/plain": [
       "[1] 138"
      ]
     },
     "metadata": {},
     "output_type": "display_data"
    }
   ],
   "source": [
    "sum(is.na(pokemon))"
   ]
  },
  {
   "cell_type": "markdown",
   "id": "efa5883f",
   "metadata": {},
   "source": [
    "Glancing categorical columns"
   ]
  },
  {
   "cell_type": "code",
   "execution_count": 6,
   "id": "72edc208",
   "metadata": {},
   "outputs": [
    {
     "data": {
      "text/plain": [
       "\n",
       "     bug     dark   dragon electric    fairy fighting     fire   flying \n",
       "      72       29       27       39       18       28       52        3 \n",
       "   ghost    grass   ground      ice   normal   poison  psychic     rock \n",
       "      27       78       32       23      105       32       53       45 \n",
       "   steel    water \n",
       "      24      114 "
      ]
     },
     "metadata": {},
     "output_type": "display_data"
    }
   ],
   "source": [
    "table(pokemon$type1)"
   ]
  },
  {
   "cell_type": "code",
   "execution_count": 7,
   "id": "678575cb",
   "metadata": {},
   "outputs": [
    {
     "data": {
      "text/plain": [
       "\n",
       "  1   2   3   4   5   6   7 \n",
       "151 100 135 107 156  72  80 "
      ]
     },
     "metadata": {},
     "output_type": "display_data"
    }
   ],
   "source": [
    "table(pokemon$generation)"
   ]
  },
  {
   "cell_type": "code",
   "execution_count": 8,
   "id": "a766586c",
   "metadata": {},
   "outputs": [
    {
     "data": {
      "text/plain": [
       "\n",
       "  0   1 \n",
       "731  70 "
      ]
     },
     "metadata": {},
     "output_type": "display_data"
    }
   ],
   "source": [
    "table(pokemon$is_legendary)"
   ]
  },
  {
   "cell_type": "markdown",
   "id": "4fad0cec",
   "metadata": {},
   "source": [
    "Understanding numerical columns"
   ]
  },
  {
   "cell_type": "code",
   "execution_count": 9,
   "id": "74213894",
   "metadata": {},
   "outputs": [
    {
     "data": {
      "text/html": [
       "10"
      ],
      "text/latex": [
       "10"
      ],
      "text/markdown": [
       "10"
      ],
      "text/plain": [
       "[1] 10"
      ]
     },
     "metadata": {},
     "output_type": "display_data"
    }
   ],
   "source": [
    "min(pokemon$sp_attack)"
   ]
  },
  {
   "cell_type": "code",
   "execution_count": 10,
   "id": "be7cf79f",
   "metadata": {},
   "outputs": [
    {
     "data": {
      "text/html": [
       "194"
      ],
      "text/latex": [
       "194"
      ],
      "text/markdown": [
       "194"
      ],
      "text/plain": [
       "[1] 194"
      ]
     },
     "metadata": {},
     "output_type": "display_data"
    }
   ],
   "source": [
    "max(pokemon$sp_attack)"
   ]
  },
  {
   "cell_type": "code",
   "execution_count": 11,
   "id": "618f1451",
   "metadata": {},
   "outputs": [
    {
     "data": {
      "text/html": [
       "1"
      ],
      "text/latex": [
       "1"
      ],
      "text/markdown": [
       "1"
      ],
      "text/plain": [
       "[1] 1"
      ]
     },
     "metadata": {},
     "output_type": "display_data"
    }
   ],
   "source": [
    "min(pokemon$hp)"
   ]
  },
  {
   "cell_type": "code",
   "execution_count": 12,
   "id": "83a97de9",
   "metadata": {},
   "outputs": [
    {
     "data": {
      "text/html": [
       "255"
      ],
      "text/latex": [
       "255"
      ],
      "text/markdown": [
       "255"
      ],
      "text/plain": [
       "[1] 255"
      ]
     },
     "metadata": {},
     "output_type": "display_data"
    }
   ],
   "source": [
    "max(pokemon$hp)"
   ]
  },
  {
   "cell_type": "markdown",
   "id": "b2fb630f",
   "metadata": {},
   "source": [
    "Renaming columns"
   ]
  },
  {
   "cell_type": "code",
   "execution_count": 13,
   "id": "07f78dbf",
   "metadata": {},
   "outputs": [],
   "source": [
    "colnames(pokemon)[colnames(pokemon)==\"type1\"] <- \"primary_type\""
   ]
  },
  {
   "cell_type": "code",
   "execution_count": 15,
   "id": "c00cd436",
   "metadata": {},
   "outputs": [],
   "source": [
    "colnames(pokemon)[colnames(pokemon)==\"type2\"] <- \"secondary_type\""
   ]
  },
  {
   "cell_type": "markdown",
   "id": "5d77f4e6",
   "metadata": {},
   "source": [
    "Grass Pokemon "
   ]
  },
  {
   "cell_type": "code",
   "execution_count": 16,
   "id": "9a7b276d",
   "metadata": {},
   "outputs": [
    {
     "name": "stderr",
     "output_type": "stream",
     "text": [
      "Warning message:\n",
      "\"package 'dplyr' was built under R version 4.1.3\"\n",
      "\n",
      "Attaching package: 'dplyr'\n",
      "\n",
      "\n",
      "The following objects are masked from 'package:stats':\n",
      "\n",
      "    filter, lag\n",
      "\n",
      "\n",
      "The following objects are masked from 'package:base':\n",
      "\n",
      "    intersect, setdiff, setequal, union\n",
      "\n",
      "\n"
     ]
    }
   ],
   "source": [
    "library(dplyr)\n",
    "pokemon %>% filter(primary_type==\"grass\") -> grass_pokemon"
   ]
  },
  {
   "cell_type": "code",
   "execution_count": 17,
   "id": "49574205",
   "metadata": {},
   "outputs": [
    {
     "data": {
      "text/html": [
       "10"
      ],
      "text/latex": [
       "10"
      ],
      "text/markdown": [
       "10"
      ],
      "text/plain": [
       "[1] 10"
      ]
     },
     "metadata": {},
     "output_type": "display_data"
    }
   ],
   "source": [
    "min(grass_pokemon$speed)"
   ]
  },
  {
   "cell_type": "code",
   "execution_count": 18,
   "id": "3a884c30",
   "metadata": {},
   "outputs": [
    {
     "data": {
      "text/html": [
       "145"
      ],
      "text/latex": [
       "145"
      ],
      "text/markdown": [
       "145"
      ],
      "text/plain": [
       "[1] 145"
      ]
     },
     "metadata": {},
     "output_type": "display_data"
    }
   ],
   "source": [
    "max(grass_pokemon$speed)"
   ]
  },
  {
   "cell_type": "code",
   "execution_count": 19,
   "id": "e88cfab2",
   "metadata": {},
   "outputs": [
    {
     "data": {
      "text/html": [
       "74.3205128205128"
      ],
      "text/latex": [
       "74.3205128205128"
      ],
      "text/markdown": [
       "74.3205128205128"
      ],
      "text/plain": [
       "[1] 74.32051"
      ]
     },
     "metadata": {},
     "output_type": "display_data"
    }
   ],
   "source": [
    "mean(grass_pokemon$sp_attack)"
   ]
  },
  {
   "cell_type": "code",
   "execution_count": 20,
   "id": "d7ce15a4",
   "metadata": {},
   "outputs": [
    {
     "data": {
      "text/html": [
       "69.2307692307692"
      ],
      "text/latex": [
       "69.2307692307692"
      ],
      "text/markdown": [
       "69.2307692307692"
      ],
      "text/plain": [
       "[1] 69.23077"
      ]
     },
     "metadata": {},
     "output_type": "display_data"
    }
   ],
   "source": [
    "mean(grass_pokemon$sp_defense)"
   ]
  },
  {
   "cell_type": "markdown",
   "id": "a080201e",
   "metadata": {},
   "source": [
    "Visualizing stats of grass-pokemon"
   ]
  },
  {
   "cell_type": "code",
   "execution_count": 21,
   "id": "7a873eb4",
   "metadata": {},
   "outputs": [
    {
     "name": "stderr",
     "output_type": "stream",
     "text": [
      "Warning message:\n",
      "\"package 'ggplot2' was built under R version 4.1.3\"\n"
     ]
    }
   ],
   "source": [
    "library(ggplot2)"
   ]
  },
  {
   "cell_type": "code",
   "execution_count": 22,
   "id": "fb20e58d",
   "metadata": {},
   "outputs": [
    {
     "name": "stderr",
     "output_type": "stream",
     "text": [
      "`stat_bin()` using `bins = 30`. Pick better value with `binwidth`.\n",
      "\n"
     ]
    },
    {
     "data": {
      "image/png": "[encoded data removed]",
      "text/plain": [
       "plot without title"
      ]
     },
     "metadata": {
      "image/png": {
       "height": 420,
       "width": 420
      }
     },
     "output_type": "display_data"
    }
   ],
   "source": [
    "ggplot(data=pokemon,aes(x=hp)) + geom_histogram()"
   ]
  },
  {
   "cell_type": "code",
   "execution_count": 23,
   "id": "31f53aeb",
   "metadata": {},
   "outputs": [
    {
     "name": "stderr",
     "output_type": "stream",
     "text": [
      "`stat_bin()` using `bins = 30`. Pick better value with `binwidth`.\n",
      "\n"
     ]
    },
    {
     "data": {
      "image/png": "[encoded data removed]",
      "text/plain": [
       "plot without title"
      ]
     },
     "metadata": {
      "image/png": {
       "height": 420,
       "width": 420
      }
     },
     "output_type": "display_data"
    }
   ],
   "source": [
    "ggplot(data=pokemon,aes(x=hp))+ geom_histogram(fill=\"palegreen4\")"
   ]
  },
  {
   "cell_type": "code",
   "execution_count": 24,
   "id": "19daca6c",
   "metadata": {},
   "outputs": [
    {
     "name": "stderr",
     "output_type": "stream",
     "text": [
      "`stat_bin()` using `bins = 30`. Pick better value with `binwidth`.\n",
      "\n",
      "Warning message:\n",
      "\"Removed 1 rows containing non-finite values (stat_bin).\"\n"
     ]
    },
    {
     "data": {
      "image/png": "[encoded data removed]",
      "text/plain": [
       "plot without title"
      ]
     },
     "metadata": {
      "image/png": {
       "height": 420,
       "width": 420
      }
     },
     "output_type": "display_data"
    }
   ],
   "source": [
    "ggplot(data = grass_pokemon,aes(x=height_m)) + geom_histogram()"
   ]
  },
  {
   "cell_type": "code",
   "execution_count": 25,
   "id": "b8808d01",
   "metadata": {},
   "outputs": [
    {
     "name": "stderr",
     "output_type": "stream",
     "text": [
      "`stat_bin()` using `bins = 30`. Pick better value with `binwidth`.\n",
      "\n",
      "Warning message:\n",
      "\"Removed 1 rows containing non-finite values (stat_bin).\"\n"
     ]
    },
    {
     "data": {
      "image/png": "[encoded data removed]",
      "text/plain": [
       "plot without title"
      ]
     },
     "metadata": {
      "image/png": {
       "height": 420,
       "width": 420
      }
     },
     "output_type": "display_data"
    }
   ],
   "source": [
    "ggplot(data = grass_pokemon,aes(x=weight_kg)) + geom_histogram()"
   ]
  },
  {
   "cell_type": "code",
   "execution_count": 26,
   "id": "e86be9aa",
   "metadata": {},
   "outputs": [
    {
     "data": {
      "image/png": "[encoded data removed]",
      "text/plain": [
       "plot without title"
      ]
     },
     "metadata": {
      "image/png": {
       "height": 420,
       "width": 420
      }
     },
     "output_type": "display_data"
    }
   ],
   "source": [
    "ggplot(data=grass_pokemon,aes(x=is_legendary))+geom_bar()"
   ]
  },
  {
   "cell_type": "markdown",
   "id": "e9fd4aff",
   "metadata": {},
   "source": [
    "Fire Pokemon"
   ]
  },
  {
   "cell_type": "code",
   "execution_count": 27,
   "id": "402a95c0",
   "metadata": {},
   "outputs": [],
   "source": [
    "pokemon %>% filter(primary_type==\"fire\") -> fire_pokemon"
   ]
  },
  {
   "cell_type": "code",
   "execution_count": 28,
   "id": "ae16f6ff",
   "metadata": {},
   "outputs": [
    {
     "data": {
      "text/html": [
       "20"
      ],
      "text/latex": [
       "20"
      ],
      "text/markdown": [
       "20"
      ],
      "text/plain": [
       "[1] 20"
      ]
     },
     "metadata": {},
     "output_type": "display_data"
    }
   ],
   "source": [
    "min(fire_pokemon$speed)"
   ]
  },
  {
   "cell_type": "code",
   "execution_count": 29,
   "id": "ddda10fc",
   "metadata": {},
   "outputs": [
    {
     "data": {
      "text/html": [
       "126"
      ],
      "text/latex": [
       "126"
      ],
      "text/markdown": [
       "126"
      ],
      "text/plain": [
       "[1] 126"
      ]
     },
     "metadata": {},
     "output_type": "display_data"
    }
   ],
   "source": [
    "max(fire_pokemon$speed)"
   ]
  },
  {
   "cell_type": "code",
   "execution_count": 30,
   "id": "5cd71bc0",
   "metadata": {},
   "outputs": [
    {
     "data": {
      "text/html": [
       "87.7307692307692"
      ],
      "text/latex": [
       "87.7307692307692"
      ],
      "text/markdown": [
       "87.7307692307692"
      ],
      "text/plain": [
       "[1] 87.73077"
      ]
     },
     "metadata": {},
     "output_type": "display_data"
    }
   ],
   "source": [
    "mean(fire_pokemon$sp_attack)"
   ]
  },
  {
   "cell_type": "code",
   "execution_count": 31,
   "id": "c1a14096",
   "metadata": {},
   "outputs": [
    {
     "data": {
      "text/html": [
       "71.5384615384615"
      ],
      "text/latex": [
       "71.5384615384615"
      ],
      "text/markdown": [
       "71.5384615384615"
      ],
      "text/plain": [
       "[1] 71.53846"
      ]
     },
     "metadata": {},
     "output_type": "display_data"
    }
   ],
   "source": [
    "mean(fire_pokemon$sp_defense)"
   ]
  },
  {
   "cell_type": "markdown",
   "id": "880c8e96",
   "metadata": {},
   "source": [
    "Visualizing stats of fire-pokemon"
   ]
  },
  {
   "cell_type": "code",
   "execution_count": 32,
   "id": "8324a250",
   "metadata": {},
   "outputs": [
    {
     "data": {
      "image/png": "[encoded data removed]",
      "text/plain": [
       "plot without title"
      ]
     },
     "metadata": {
      "image/png": {
       "height": 420,
       "width": 420
      }
     },
     "output_type": "display_data"
    }
   ],
   "source": [
    "ggplot(data = fire_pokemon,aes(x=generation)) + geom_bar()"
   ]
  },
  {
   "cell_type": "code",
   "execution_count": 33,
   "id": "efda1f17",
   "metadata": {},
   "outputs": [
    {
     "data": {
      "image/png": "[encoded data removed]",
      "text/plain": [
       "plot without title"
      ]
     },
     "metadata": {
      "image/png": {
       "height": 420,
       "width": 420
      }
     },
     "output_type": "display_data"
    }
   ],
   "source": [
    "ggplot(data = fire_pokemon,aes(x=secondary_type)) + geom_bar()"
   ]
  },
  {
   "cell_type": "code",
   "execution_count": 34,
   "id": "e66f18fe",
   "metadata": {},
   "outputs": [
    {
     "data": {
      "image/png": "[encoded data removed]",
      "text/plain": [
       "plot without title"
      ]
     },
     "metadata": {
      "image/png": {
       "height": 420,
       "width": 420
      }
     },
     "output_type": "display_data"
    }
   ],
   "source": [
    "ggplot(data = fire_pokemon,aes(x=sp_attack,y=sp_defense)) + geom_point()"
   ]
  },
  {
   "cell_type": "code",
   "execution_count": 35,
   "id": "8a3fa1af",
   "metadata": {},
   "outputs": [
    {
     "name": "stderr",
     "output_type": "stream",
     "text": [
      "Warning message:\n",
      "\"Removed 2 rows containing missing values (geom_point).\"\n"
     ]
    },
    {
     "data": {
      "image/png": "[encoded data removed]",
      "text/plain": [
       "plot without title"
      ]
     },
     "metadata": {
      "image/png": {
       "height": 420,
       "width": 420
      }
     },
     "output_type": "display_data"
    }
   ],
   "source": [
    "ggplot(data = fire_pokemon,aes(x=height_m,y=weight_kg)) + geom_point()"
   ]
  },
  {
   "cell_type": "markdown",
   "id": "4bf71074",
   "metadata": {},
   "source": [
    "Water_pokemon"
   ]
  },
  {
   "cell_type": "code",
   "execution_count": 36,
   "id": "f82120d8",
   "metadata": {},
   "outputs": [],
   "source": [
    "pokemon %>% filter(primary_type==\"water\") -> water_pokemon"
   ]
  },
  {
   "cell_type": "code",
   "execution_count": 37,
   "id": "d829dbc0",
   "metadata": {},
   "outputs": [
    {
     "data": {
      "text/html": [
       "5"
      ],
      "text/latex": [
       "5"
      ],
      "text/markdown": [
       "5"
      ],
      "text/plain": [
       "[1] 5"
      ]
     },
     "metadata": {},
     "output_type": "display_data"
    }
   ],
   "source": [
    "min(water_pokemon$speed)"
   ]
  },
  {
   "cell_type": "code",
   "execution_count": 38,
   "id": "65e0746a",
   "metadata": {},
   "outputs": [
    {
     "data": {
      "text/html": [
       "132"
      ],
      "text/latex": [
       "132"
      ],
      "text/markdown": [
       "132"
      ],
      "text/plain": [
       "[1] 132"
      ]
     },
     "metadata": {},
     "output_type": "display_data"
    }
   ],
   "source": [
    "max(water_pokemon$speed)"
   ]
  },
  {
   "cell_type": "code",
   "execution_count": 39,
   "id": "2049035e",
   "metadata": {},
   "outputs": [
    {
     "data": {
      "text/html": [
       "74.0614035087719"
      ],
      "text/latex": [
       "74.0614035087719"
      ],
      "text/markdown": [
       "74.0614035087719"
      ],
      "text/plain": [
       "[1] 74.0614"
      ]
     },
     "metadata": {},
     "output_type": "display_data"
    }
   ],
   "source": [
    "mean(water_pokemon$sp_attack)"
   ]
  },
  {
   "cell_type": "code",
   "execution_count": 40,
   "id": "4c752bb8",
   "metadata": {},
   "outputs": [
    {
     "data": {
      "text/html": [
       "71.7982456140351"
      ],
      "text/latex": [
       "71.7982456140351"
      ],
      "text/markdown": [
       "71.7982456140351"
      ],
      "text/plain": [
       "[1] 71.79825"
      ]
     },
     "metadata": {},
     "output_type": "display_data"
    }
   ],
   "source": [
    "mean(water_pokemon$sp_defense)"
   ]
  },
  {
   "cell_type": "markdown",
   "id": "230016ab",
   "metadata": {},
   "source": [
    "Visualizing stats of water pokemon"
   ]
  },
  {
   "cell_type": "code",
   "execution_count": 41,
   "id": "6dc17e60",
   "metadata": {},
   "outputs": [
    {
     "name": "stderr",
     "output_type": "stream",
     "text": [
      "`stat_bin()` using `bins = 30`. Pick better value with `binwidth`.\n",
      "\n"
     ]
    },
    {
     "data": {
      "image/png": "[encoded data removed]",
      "text/plain": [
       "plot without title"
      ]
     },
     "metadata": {
      "image/png": {
       "height": 420,
       "width": 420
      }
     },
     "output_type": "display_data"
    }
   ],
   "source": [
    "ggplot(data = water_pokemon,aes(x=against_ice)) + geom_histogram()"
   ]
  },
  {
   "cell_type": "code",
   "execution_count": 42,
   "id": "76058b22",
   "metadata": {},
   "outputs": [
    {
     "name": "stderr",
     "output_type": "stream",
     "text": [
      "`stat_bin()` using `bins = 30`. Pick better value with `binwidth`.\n",
      "\n"
     ]
    },
    {
     "data": {
      "image/png": "[encoded data removed]",
      "text/plain": [
       "plot without title"
      ]
     },
     "metadata": {
      "image/png": {
       "height": 420,
       "width": 420
      }
     },
     "output_type": "display_data"
    }
   ],
   "source": [
    "ggplot(data = water_pokemon,aes(x=against_poison)) + geom_histogram()"
   ]
  },
  {
   "cell_type": "code",
   "execution_count": 43,
   "id": "9c5d72e8",
   "metadata": {},
   "outputs": [
    {
     "name": "stderr",
     "output_type": "stream",
     "text": [
      "`stat_bin()` using `bins = 30`. Pick better value with `binwidth`.\n",
      "\n"
     ]
    },
    {
     "data": {
      "image/png": "[encoded data removed]",
      "text/plain": [
       "plot without title"
      ]
     },
     "metadata": {
      "image/png": {
       "height": 420,
       "width": 420
      }
     },
     "output_type": "display_data"
    }
   ],
   "source": [
    "ggplot(data = water_pokemon,aes(x=against_grass)) + geom_histogram()"
   ]
  },
  {
   "cell_type": "code",
   "execution_count": null,
   "id": "af38438c",
   "metadata": {},
   "outputs": [],
   "source": []
  }
 ],
 "metadata": {
  "kernelspec": {
   "display_name": "R",
   "language": "R",
   "name": "ir"
  },
  "language_info": {
   "codemirror_mode": "r",
   "file_extension": ".r",
   "mimetype": "text/x-r-source",
   "name": "R",
   "pygments_lexer": "r",
   "version": "4.1.1"
  }
 },
 "nbformat": 4,
 "nbformat_minor": 5
}
